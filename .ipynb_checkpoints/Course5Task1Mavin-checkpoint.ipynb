{
 "cells": [
  {
   "cell_type": "code",
   "execution_count": 5,
   "metadata": {},
   "outputs": [
    {
     "data": {
      "text/plain": [
       "5.0"
      ]
     },
     "execution_count": 5,
     "metadata": {},
     "output_type": "execute_result"
    }
   ],
   "source": [
    "## Square root\n",
    "import math\n",
    "math.sqrt(25)\n"
   ]
  },
  {
   "cell_type": "code",
   "execution_count": 6,
   "metadata": {},
   "outputs": [
    {
     "data": {
      "text/plain": [
       "3.141592653589793"
      ]
     },
     "execution_count": 6,
     "metadata": {},
     "output_type": "execute_result"
    }
   ],
   "source": [
    "## PI\n",
    "math.pi"
   ]
  },
  {
   "cell_type": "code",
   "execution_count": 7,
   "metadata": {},
   "outputs": [
    {
     "data": {
      "text/plain": [
       "6.0"
      ]
     },
     "execution_count": 7,
     "metadata": {},
     "output_type": "execute_result"
    }
   ],
   "source": [
    "import math as mt\n",
    "mt.sqrt(36)"
   ]
  },
  {
   "cell_type": "code",
   "execution_count": 33,
   "metadata": {},
   "outputs": [
    {
     "name": "stdout",
     "output_type": "stream",
     "text": [
      "7\n"
     ]
    }
   ],
   "source": [
    "## Addition\n",
    "myvar=4\n",
    "myvar+=3\n",
    "print(myvar)"
   ]
  },
  {
   "cell_type": "code",
   "execution_count": 20,
   "metadata": {},
   "outputs": [
    {
     "name": "stdout",
     "output_type": "stream",
     "text": [
      "17\n",
      "85\n",
      "42.5\n"
     ]
    }
   ],
   "source": [
    "## subtraction multiplaction division\n",
    "myvar -=3\n",
    "print(myvar)\n",
    "myvar *=5\n",
    "print(myvar)\n",
    "myvar /=2\n",
    "print(myvar)"
   ]
  },
  {
   "cell_type": "code",
   "execution_count": 24,
   "metadata": {},
   "outputs": [
    {
     "data": {
      "text/plain": [
       "'2018-04-28 22:43:09.018218'"
      ]
     },
     "execution_count": 24,
     "metadata": {},
     "output_type": "execute_result"
    }
   ],
   "source": [
    "### datetime\n",
    "import datetime\n",
    "datetime.datetime.now()\n",
    "str(datetime.datetime.now())\n"
   ]
  },
  {
   "cell_type": "code",
   "execution_count": 25,
   "metadata": {},
   "outputs": [
    {
     "data": {
      "text/plain": [
       "'2018-04-28'"
      ]
     },
     "execution_count": 25,
     "metadata": {},
     "output_type": "execute_result"
    }
   ],
   "source": [
    "### datetime\n",
    "import datetime\n",
    "\n",
    "str(datetime.datetime.now().date())"
   ]
  },
  {
   "cell_type": "code",
   "execution_count": 29,
   "metadata": {},
   "outputs": [],
   "source": [
    "## Functions\n",
    "def SayHello():\n",
    "    print ('Hello There!')"
   ]
  },
  {
   "cell_type": "code",
   "execution_count": 15,
   "metadata": {},
   "outputs": [
    {
     "name": "stdout",
     "output_type": "stream",
     "text": [
      "No Value Supplied\n"
     ]
    }
   ],
   "source": [
    "SayHello()"
   ]
  },
  {
   "cell_type": "code",
   "execution_count": 35,
   "metadata": {},
   "outputs": [],
   "source": [
    "## Function with arguments\n",
    "def DoSum(Value1, Value2) :\n",
    "    return Value1 + Value2\n",
    " "
   ]
  },
  {
   "cell_type": "code",
   "execution_count": 37,
   "metadata": {},
   "outputs": [
    {
     "ename": "TypeError",
     "evalue": "DoSum() missing 2 required positional arguments: 'Value1' and 'Value2'",
     "output_type": "error",
     "traceback": [
      "\u001b[1;31m---------------------------------------------------------------------------\u001b[0m",
      "\u001b[1;31mTypeError\u001b[0m                                 Traceback (most recent call last)",
      "\u001b[1;32m<ipython-input-37-ddda916e57d2>\u001b[0m in \u001b[0;36m<module>\u001b[1;34m()\u001b[0m\n\u001b[1;32m----> 1\u001b[1;33m \u001b[0mDoSum\u001b[0m\u001b[1;33m(\u001b[0m\u001b[1;33m)\u001b[0m\u001b[1;33m\u001b[0m\u001b[0m\n\u001b[0m",
      "\u001b[1;31mTypeError\u001b[0m: DoSum() missing 2 required positional arguments: 'Value1' and 'Value2'"
     ]
    }
   ],
   "source": [
    "DoSum()"
   ]
  },
  {
   "cell_type": "code",
   "execution_count": 38,
   "metadata": {},
   "outputs": [
    {
     "data": {
      "text/plain": [
       "7"
      ]
     },
     "execution_count": 38,
     "metadata": {},
     "output_type": "execute_result"
    }
   ],
   "source": [
    "DoSum(3,4)"
   ]
  },
  {
   "cell_type": "code",
   "execution_count": 1,
   "metadata": {},
   "outputs": [],
   "source": [
    "## Function with default\n",
    "def SayHello(Greeting = \"No Value Supplied\") :\n",
    "    print (Greeting)\n",
    "    "
   ]
  },
  {
   "cell_type": "code",
   "execution_count": 4,
   "metadata": {},
   "outputs": [
    {
     "name": "stdout",
     "output_type": "stream",
     "text": [
      "No Value Supplied\n",
      "Howdy\n"
     ]
    }
   ],
   "source": [
    "SayHello()\n",
    "SayHello(\"Howdy\")"
   ]
  },
  {
   "cell_type": "code",
   "execution_count": 18,
   "metadata": {},
   "outputs": [],
   "source": [
    "## Function with variable arguments\n",
    "def DisplayMulti (ArgCount = 0, *VarArgs) :\n",
    "    print('You passed ' + str(ArgCount) + ' arguments.', VarArgs)  \n",
    "    "
   ]
  },
  {
   "cell_type": "code",
   "execution_count": 21,
   "metadata": {},
   "outputs": [
    {
     "name": "stdout",
     "output_type": "stream",
     "text": [
      "You passed 0 arguments. ()\n",
      "You passed 2 arguments. ('Mavin', True)\n"
     ]
    }
   ],
   "source": [
    "DisplayMulti()\n",
    "DisplayMulti(2, 'Mavin', True)"
   ]
  },
  {
   "cell_type": "code",
   "execution_count": 24,
   "metadata": {},
   "outputs": [],
   "source": [
    "# if else elif\n",
    "def TestValue(Value) :\n",
    "    if Value == 5:\n",
    "        print(' Value equals 5!')\n",
    "    elif Value == 6:\n",
    "            print ('Value = 6')\n",
    "    else :\n",
    "                print ('Value equals ' + str(Value))\n",
    "                "
   ]
  },
  {
   "cell_type": "code",
   "execution_count": 25,
   "metadata": {},
   "outputs": [
    {
     "name": "stdout",
     "output_type": "stream",
     "text": [
      " Value equals 5!\n",
      "Value = 6\n",
      "Value equals 5436\n"
     ]
    }
   ],
   "source": [
    "TestValue(5)\n",
    "TestValue(6)\n",
    "TestValue(5436)"
   ]
  },
  {
   "cell_type": "code",
   "execution_count": 26,
   "metadata": {},
   "outputs": [],
   "source": [
    "## Nested if statement\n",
    "def SecretNumber():\n",
    "    One = int(input (\"Type a number between 1 &  10: \"))\n",
    "    Two = int(input (\"Type a number between 1 &  10: \"))\n",
    "    \n",
    "    if (One >=1) and (One <=10) :\n",
    "        if (Two >= 1) and (Two <=10) :\n",
    "            print('Your sercret number is :' + str(One * Two))\n",
    "        else:\n",
    "            print(\"Incorect 2nd value\")\n",
    "    else:\n",
    "        print(\"Incorrect 1st value\")\n",
    "        "
   ]
  },
  {
   "cell_type": "code",
   "execution_count": 30,
   "metadata": {},
   "outputs": [
    {
     "name": "stdout",
     "output_type": "stream",
     "text": [
      "Type a number between 1 &  10: 5\n",
      "Type a number between 1 &  10: 0\n",
      "Incorect 2nd value\n"
     ]
    }
   ],
   "source": [
    "SecretNumber()"
   ]
  },
  {
   "cell_type": "code",
   "execution_count": 31,
   "metadata": {},
   "outputs": [],
   "source": [
    "## For loop\n",
    "def DisplayMulti(*VarArgs) :\n",
    "    for Arg in VarArgs:\n",
    "        if Arg.upper() == 'CONT' :\n",
    "            continue\n",
    "            print ('Continue Argument: ' + Arg)\n",
    "        elif Arg.upper() == 'BREAK' :\n",
    "            break\n",
    "            print('Break Argument: '  + Arg)\n",
    "        print('Good Argumemt: ' + Arg)\n",
    "        "
   ]
  },
  {
   "cell_type": "code",
   "execution_count": 34,
   "metadata": {},
   "outputs": [
    {
     "name": "stdout",
     "output_type": "stream",
     "text": [
      "Good Argumemt: Hello\n",
      "Good Argumemt: Bye\n",
      "Good Argumemt: Hello\n",
      "Good Argumemt: 2nd Arg\n",
      "Good Argumemt: Bye\n"
     ]
    }
   ],
   "source": [
    "DisplayMulti(\"Hello\", \"Bye\",\"Break\", \"after Break\")\n",
    "DisplayMulti(\"Hello\", \"2nd Arg\", \"Bye\")\n"
   ]
  },
  {
   "cell_type": "code",
   "execution_count": null,
   "metadata": {},
   "outputs": [],
   "source": [
    "## WHile loop\n"
   ]
  }
 ],
 "metadata": {
  "kernelspec": {
   "display_name": "Python 3",
   "language": "python",
   "name": "python3"
  },
  "language_info": {
   "codemirror_mode": {
    "name": "ipython",
    "version": 3
   },
   "file_extension": ".py",
   "mimetype": "text/x-python",
   "name": "python",
   "nbconvert_exporter": "python",
   "pygments_lexer": "ipython3",
   "version": "3.6.4"
  }
 },
 "nbformat": 4,
 "nbformat_minor": 2
}
