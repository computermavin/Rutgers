{
 "cells": [
  {
   "cell_type": "code",
   "execution_count": 1,
   "metadata": {},
   "outputs": [
    {
     "name": "stderr",
     "output_type": "stream",
     "text": [
      "C:\\Users\\mjian\\Anaconda3\\lib\\site-packages\\sklearn\\cross_validation.py:41: DeprecationWarning: This module was deprecated in version 0.18 in favor of the model_selection module into which all the refactored classes and functions are moved. Also note that the interface of the new CV iterators are different from that of this module. This module will be removed in 0.20.\n",
      "  \"This module will be removed in 0.20.\", DeprecationWarning)\n"
     ]
    }
   ],
   "source": [
    "# Author Mavin\n",
    "import pandas as pd\n",
    "import matplotlib as mpl\n",
    "import matplotlib.pyplot as plt\n",
    "import seaborn as sns \n",
    "import matplotlib.pyplot as plt\n",
    "from matplotlib.colors import ListedColormap\n",
    "from math import sqrt\n",
    "import scipy\n",
    "from mpl_toolkits.mplot3d import Axes3D\n",
    "import numpy as np\n",
    "\n",
    "from sklearn.covariance import EmpiricalCovariance, MinCovDet\n",
    "# Preprocessor\n",
    "from sklearn.preprocessing import StandardScaler\n",
    "#Estimators\n",
    "\n",
    "from sklearn.svm import SVC\n",
    "from sklearn.neighbors import KNeighborsClassifier \n",
    "from sklearn.ensemble import RandomForestClassifier\n",
    "from sklearn.ensemble import GradientBoostingClassifier\n",
    "#cross validation\n",
    "from sklearn.cross_validation import train_test_split\n",
    "\n",
    "# tuning\n",
    "from sklearn.model_selection import GridSearchCV\n",
    "#model metrics\n",
    "from sklearn.metrics import accuracy_score\n",
    "from sklearn.metrics import classification_report\n",
    "from sklearn.metrics import confusion_matrix\n",
    "from sklearn.metrics import cohen_kappa_score\n",
    "from sklearn.decomposition import PCA"
   ]
  },
  {
   "cell_type": "code",
   "execution_count": 2,
   "metadata": {},
   "outputs": [],
   "source": [
    "pd.options.mode.chained_assignment = None  # default='warn'"
   ]
  },
  {
   "cell_type": "code",
   "execution_count": 3,
   "metadata": {},
   "outputs": [
    {
     "data": {
      "text/html": [
       "<div>\n",
       "<style scoped>\n",
       "    .dataframe tbody tr th:only-of-type {\n",
       "        vertical-align: middle;\n",
       "    }\n",
       "\n",
       "    .dataframe tbody tr th {\n",
       "        vertical-align: top;\n",
       "    }\n",
       "\n",
       "    .dataframe thead th {\n",
       "        text-align: right;\n",
       "    }\n",
       "</style>\n",
       "<table border=\"1\" class=\"dataframe\">\n",
       "  <thead>\n",
       "    <tr style=\"text-align: right;\">\n",
       "      <th></th>\n",
       "      <th>Loan_ID</th>\n",
       "      <th>Gender</th>\n",
       "      <th>Married</th>\n",
       "      <th>Dependents</th>\n",
       "      <th>Education</th>\n",
       "      <th>Self_Employed</th>\n",
       "      <th>ApplicantIncome</th>\n",
       "      <th>CoapplicantIncome</th>\n",
       "      <th>LoanAmount</th>\n",
       "      <th>Loan_Amount_Term</th>\n",
       "      <th>Credit_History</th>\n",
       "      <th>Property_Area</th>\n",
       "      <th>Loan_Status</th>\n",
       "    </tr>\n",
       "  </thead>\n",
       "  <tbody>\n",
       "    <tr>\n",
       "      <th>0</th>\n",
       "      <td>LP001002</td>\n",
       "      <td>Male</td>\n",
       "      <td>No</td>\n",
       "      <td>0.0</td>\n",
       "      <td>Graduate</td>\n",
       "      <td>No</td>\n",
       "      <td>5849</td>\n",
       "      <td>0.0</td>\n",
       "      <td>NaN</td>\n",
       "      <td>360.0</td>\n",
       "      <td>1.0</td>\n",
       "      <td>Urban</td>\n",
       "      <td>Y</td>\n",
       "    </tr>\n",
       "    <tr>\n",
       "      <th>1</th>\n",
       "      <td>LP001003</td>\n",
       "      <td>Male</td>\n",
       "      <td>Yes</td>\n",
       "      <td>1.0</td>\n",
       "      <td>Graduate</td>\n",
       "      <td>No</td>\n",
       "      <td>4583</td>\n",
       "      <td>1508.0</td>\n",
       "      <td>128.0</td>\n",
       "      <td>360.0</td>\n",
       "      <td>1.0</td>\n",
       "      <td>Rural</td>\n",
       "      <td>N</td>\n",
       "    </tr>\n",
       "    <tr>\n",
       "      <th>2</th>\n",
       "      <td>LP001005</td>\n",
       "      <td>Male</td>\n",
       "      <td>Yes</td>\n",
       "      <td>0.0</td>\n",
       "      <td>Graduate</td>\n",
       "      <td>Yes</td>\n",
       "      <td>3000</td>\n",
       "      <td>0.0</td>\n",
       "      <td>66.0</td>\n",
       "      <td>360.0</td>\n",
       "      <td>1.0</td>\n",
       "      <td>Urban</td>\n",
       "      <td>Y</td>\n",
       "    </tr>\n",
       "    <tr>\n",
       "      <th>3</th>\n",
       "      <td>LP001006</td>\n",
       "      <td>Male</td>\n",
       "      <td>Yes</td>\n",
       "      <td>0.0</td>\n",
       "      <td>Not Graduate</td>\n",
       "      <td>No</td>\n",
       "      <td>2583</td>\n",
       "      <td>2358.0</td>\n",
       "      <td>120.0</td>\n",
       "      <td>360.0</td>\n",
       "      <td>1.0</td>\n",
       "      <td>Urban</td>\n",
       "      <td>Y</td>\n",
       "    </tr>\n",
       "    <tr>\n",
       "      <th>4</th>\n",
       "      <td>LP001008</td>\n",
       "      <td>Male</td>\n",
       "      <td>No</td>\n",
       "      <td>0.0</td>\n",
       "      <td>Graduate</td>\n",
       "      <td>No</td>\n",
       "      <td>6000</td>\n",
       "      <td>0.0</td>\n",
       "      <td>141.0</td>\n",
       "      <td>360.0</td>\n",
       "      <td>1.0</td>\n",
       "      <td>Urban</td>\n",
       "      <td>Y</td>\n",
       "    </tr>\n",
       "  </tbody>\n",
       "</table>\n",
       "</div>"
      ],
      "text/plain": [
       "    Loan_ID Gender Married  Dependents     Education Self_Employed  \\\n",
       "0  LP001002   Male      No         0.0      Graduate            No   \n",
       "1  LP001003   Male     Yes         1.0      Graduate            No   \n",
       "2  LP001005   Male     Yes         0.0      Graduate           Yes   \n",
       "3  LP001006   Male     Yes         0.0  Not Graduate            No   \n",
       "4  LP001008   Male      No         0.0      Graduate            No   \n",
       "\n",
       "   ApplicantIncome  CoapplicantIncome  LoanAmount  Loan_Amount_Term  \\\n",
       "0             5849                0.0         NaN             360.0   \n",
       "1             4583             1508.0       128.0             360.0   \n",
       "2             3000                0.0        66.0             360.0   \n",
       "3             2583             2358.0       120.0             360.0   \n",
       "4             6000                0.0       141.0             360.0   \n",
       "\n",
       "   Credit_History Property_Area Loan_Status  \n",
       "0             1.0         Urban           Y  \n",
       "1             1.0         Rural           N  \n",
       "2             1.0         Urban           Y  \n",
       "3             1.0         Urban           Y  \n",
       "4             1.0         Urban           Y  "
      ]
     },
     "execution_count": 3,
     "metadata": {},
     "output_type": "execute_result"
    }
   ],
   "source": [
    "### This Data is solely for the EDA part.\n",
    "loan = pd.read_csv('Loan_train.csv')\n",
    "loan.head()"
   ]
  },
  {
   "cell_type": "code",
   "execution_count": 4,
   "metadata": {},
   "outputs": [
    {
     "name": "stdout",
     "output_type": "stream",
     "text": [
      "<class 'pandas.core.frame.DataFrame'>\n",
      "RangeIndex: 614 entries, 0 to 613\n",
      "Data columns (total 13 columns):\n",
      "Loan_ID              614 non-null object\n",
      "Gender               601 non-null object\n",
      "Married              611 non-null object\n",
      "Dependents           599 non-null float64\n",
      "Education            614 non-null object\n",
      "Self_Employed        582 non-null object\n",
      "ApplicantIncome      614 non-null int64\n",
      "CoapplicantIncome    614 non-null float64\n",
      "LoanAmount           592 non-null float64\n",
      "Loan_Amount_Term     600 non-null float64\n",
      "Credit_History       564 non-null float64\n",
      "Property_Area        614 non-null object\n",
      "Loan_Status          614 non-null object\n",
      "dtypes: float64(5), int64(1), object(7)\n",
      "memory usage: 62.4+ KB\n"
     ]
    }
   ],
   "source": [
    "loan.info()"
   ]
  },
  {
   "cell_type": "code",
   "execution_count": 5,
   "metadata": {},
   "outputs": [
    {
     "name": "stdout",
     "output_type": "stream",
     "text": [
      "     Loan_ID  Gender  Married  Dependents  Education  Self_Employed  \\\n",
      "0      False   False    False       False      False          False   \n",
      "1      False   False    False       False      False          False   \n",
      "2      False   False    False       False      False          False   \n",
      "3      False   False    False       False      False          False   \n",
      "4      False   False    False       False      False          False   \n",
      "5      False   False    False       False      False          False   \n",
      "6      False   False    False       False      False          False   \n",
      "7      False   False    False       False      False          False   \n",
      "8      False   False    False       False      False          False   \n",
      "9      False   False    False       False      False          False   \n",
      "10     False   False    False       False      False          False   \n",
      "11     False   False    False       False      False           True   \n",
      "12     False   False    False       False      False          False   \n",
      "13     False   False    False       False      False          False   \n",
      "14     False   False    False       False      False          False   \n",
      "15     False   False    False       False      False          False   \n",
      "16     False   False    False       False      False          False   \n",
      "17     False   False    False       False      False          False   \n",
      "18     False   False    False       False      False          False   \n",
      "19     False   False    False       False      False           True   \n",
      "20     False   False    False       False      False          False   \n",
      "21     False   False    False       False      False          False   \n",
      "22     False   False    False       False      False          False   \n",
      "23     False    True    False       False      False          False   \n",
      "24     False   False    False       False      False           True   \n",
      "25     False   False    False       False      False          False   \n",
      "26     False   False    False       False      False          False   \n",
      "27     False   False    False       False      False          False   \n",
      "28     False   False    False       False      False          False   \n",
      "29     False   False    False       False      False           True   \n",
      "..       ...     ...      ...         ...        ...            ...   \n",
      "584    False   False    False       False      False          False   \n",
      "585    False   False    False       False      False          False   \n",
      "586    False   False    False       False      False          False   \n",
      "587    False   False    False       False      False          False   \n",
      "588    False    True    False       False      False          False   \n",
      "589    False   False    False       False      False          False   \n",
      "590    False   False    False       False      False          False   \n",
      "591    False   False    False       False      False          False   \n",
      "592    False    True    False       False      False          False   \n",
      "593    False   False    False       False      False          False   \n",
      "594    False   False    False       False      False          False   \n",
      "595    False   False    False       False      False          False   \n",
      "596    False   False    False       False      False          False   \n",
      "597    False   False    False        True      False          False   \n",
      "598    False   False    False       False      False          False   \n",
      "599    False   False    False       False      False          False   \n",
      "600    False   False    False       False      False           True   \n",
      "601    False   False    False       False      False           True   \n",
      "602    False   False    False       False      False          False   \n",
      "603    False   False    False       False      False          False   \n",
      "604    False   False    False       False      False          False   \n",
      "605    False   False    False       False      False          False   \n",
      "606    False   False    False       False      False          False   \n",
      "607    False   False    False       False      False          False   \n",
      "608    False   False    False       False      False          False   \n",
      "609    False   False    False       False      False          False   \n",
      "610    False   False    False       False      False          False   \n",
      "611    False   False    False       False      False          False   \n",
      "612    False   False    False       False      False          False   \n",
      "613    False   False    False       False      False          False   \n",
      "\n",
      "     ApplicantIncome  CoapplicantIncome  LoanAmount  Loan_Amount_Term  \\\n",
      "0              False              False        True             False   \n",
      "1              False              False       False             False   \n",
      "2              False              False       False             False   \n",
      "3              False              False       False             False   \n",
      "4              False              False       False             False   \n",
      "5              False              False       False             False   \n",
      "6              False              False       False             False   \n",
      "7              False              False       False             False   \n",
      "8              False              False       False             False   \n",
      "9              False              False       False             False   \n",
      "10             False              False       False             False   \n",
      "11             False              False       False             False   \n",
      "12             False              False       False             False   \n",
      "13             False              False       False             False   \n",
      "14             False              False       False             False   \n",
      "15             False              False       False             False   \n",
      "16             False              False       False             False   \n",
      "17             False              False       False             False   \n",
      "18             False              False       False             False   \n",
      "19             False              False       False              True   \n",
      "20             False              False       False             False   \n",
      "21             False              False       False             False   \n",
      "22             False              False       False             False   \n",
      "23             False              False       False             False   \n",
      "24             False              False       False             False   \n",
      "25             False              False       False             False   \n",
      "26             False              False       False             False   \n",
      "27             False              False       False             False   \n",
      "28             False              False       False             False   \n",
      "29             False              False       False             False   \n",
      "..               ...                ...         ...               ...   \n",
      "584            False              False       False             False   \n",
      "585            False              False       False             False   \n",
      "586            False              False       False             False   \n",
      "587            False              False       False             False   \n",
      "588            False              False       False             False   \n",
      "589            False              False       False             False   \n",
      "590            False              False       False             False   \n",
      "591            False              False       False             False   \n",
      "592            False              False       False             False   \n",
      "593            False              False       False             False   \n",
      "594            False              False       False             False   \n",
      "595            False              False       False             False   \n",
      "596            False              False       False             False   \n",
      "597            False              False       False             False   \n",
      "598            False              False       False             False   \n",
      "599            False              False       False             False   \n",
      "600            False              False       False             False   \n",
      "601            False              False       False             False   \n",
      "602            False              False       False             False   \n",
      "603            False              False       False             False   \n",
      "604            False              False       False             False   \n",
      "605            False              False        True             False   \n",
      "606            False              False       False             False   \n",
      "607            False              False       False             False   \n",
      "608            False              False       False             False   \n",
      "609            False              False       False             False   \n",
      "610            False              False       False             False   \n",
      "611            False              False       False             False   \n",
      "612            False              False       False             False   \n",
      "613            False              False       False             False   \n",
      "\n",
      "     Credit_History  Property_Area  Loan_Status  \n",
      "0             False          False        False  \n",
      "1             False          False        False  \n",
      "2             False          False        False  \n",
      "3             False          False        False  \n",
      "4             False          False        False  \n",
      "5             False          False        False  \n",
      "6             False          False        False  \n",
      "7             False          False        False  \n",
      "8             False          False        False  \n",
      "9             False          False        False  \n",
      "10            False          False        False  \n",
      "11            False          False        False  \n",
      "12            False          False        False  \n",
      "13            False          False        False  \n",
      "14            False          False        False  \n",
      "15            False          False        False  \n",
      "16             True          False        False  \n",
      "17            False          False        False  \n",
      "18            False          False        False  \n",
      "19            False          False        False  \n",
      "20            False          False        False  \n",
      "21            False          False        False  \n",
      "22            False          False        False  \n",
      "23            False          False        False  \n",
      "24             True          False        False  \n",
      "25            False          False        False  \n",
      "26            False          False        False  \n",
      "27            False          False        False  \n",
      "28            False          False        False  \n",
      "29            False          False        False  \n",
      "..              ...            ...          ...  \n",
      "584           False          False        False  \n",
      "585           False          False        False  \n",
      "586           False          False        False  \n",
      "587           False          False        False  \n",
      "588           False          False        False  \n",
      "589           False          False        False  \n",
      "590           False          False        False  \n",
      "591           False          False        False  \n",
      "592           False          False        False  \n",
      "593           False          False        False  \n",
      "594           False          False        False  \n",
      "595           False          False        False  \n",
      "596           False          False        False  \n",
      "597           False          False        False  \n",
      "598           False          False        False  \n",
      "599           False          False        False  \n",
      "600            True          False        False  \n",
      "601           False          False        False  \n",
      "602           False          False        False  \n",
      "603           False          False        False  \n",
      "604           False          False        False  \n",
      "605           False          False        False  \n",
      "606           False          False        False  \n",
      "607           False          False        False  \n",
      "608           False          False        False  \n",
      "609           False          False        False  \n",
      "610           False          False        False  \n",
      "611           False          False        False  \n",
      "612           False          False        False  \n",
      "613           False          False        False  \n",
      "\n",
      "[614 rows x 13 columns]\n"
     ]
    }
   ],
   "source": [
    "print(loan.isnull())"
   ]
  },
  {
   "cell_type": "code",
   "execution_count": 6,
   "metadata": {},
   "outputs": [
    {
     "data": {
      "text/plain": [
       "Married              3\n",
       "Gender              13\n",
       "Loan_Amount_Term    14\n",
       "Dependents          15\n",
       "LoanAmount          22\n",
       "Self_Employed       32\n",
       "Credit_History      50\n",
       "dtype: int64"
      ]
     },
     "execution_count": 6,
     "metadata": {},
     "output_type": "execute_result"
    }
   ],
   "source": [
    "count_null= loan.isnull().sum()\n",
    "count_null[count_null>0].sort_values()"
   ]
  },
  {
   "cell_type": "code",
   "execution_count": 7,
   "metadata": {},
   "outputs": [],
   "source": [
    "# Default Credit history to 1 if null and Loan Status = 'Y'\n",
    "loan.loc[ (pd.isnull(loan['Credit_History'])) & (loan['Loan_Status'] == 'Y'), 'Credit_History'] = 1\n",
    "# Default Credit history to 0 if null and Loan Status = 'N'\n",
    "loan.loc[ (pd.isnull(loan['Credit_History'])) & (loan['Loan_Status'] == 'N'), 'Credit_History'] = 0"
   ]
  },
  {
   "cell_type": "code",
   "execution_count": 8,
   "metadata": {},
   "outputs": [],
   "source": [
    "# Drop rows with nulls\n",
    "cLoan=loan.dropna(thresh=13)"
   ]
  },
  {
   "cell_type": "code",
   "execution_count": 9,
   "metadata": {},
   "outputs": [
    {
     "name": "stdout",
     "output_type": "stream",
     "text": [
      "Loan_ID              0\n",
      "Gender               0\n",
      "Married              0\n",
      "Dependents           0\n",
      "Education            0\n",
      "Self_Employed        0\n",
      "ApplicantIncome      0\n",
      "CoapplicantIncome    0\n",
      "LoanAmount           0\n",
      "Loan_Amount_Term     0\n",
      "Credit_History       0\n",
      "Property_Area        0\n",
      "Loan_Status          0\n",
      "dtype: int64\n"
     ]
    }
   ],
   "source": [
    "print( cLoan.isnull().sum())"
   ]
  },
  {
   "cell_type": "code",
   "execution_count": 10,
   "metadata": {},
   "outputs": [
    {
     "name": "stdout",
     "output_type": "stream",
     "text": [
      "<class 'pandas.core.frame.DataFrame'>\n",
      "Int64Index: 523 entries, 1 to 613\n",
      "Data columns (total 13 columns):\n",
      "Loan_ID              523 non-null object\n",
      "Gender               523 non-null object\n",
      "Married              523 non-null object\n",
      "Dependents           523 non-null float64\n",
      "Education            523 non-null object\n",
      "Self_Employed        523 non-null object\n",
      "ApplicantIncome      523 non-null int64\n",
      "CoapplicantIncome    523 non-null float64\n",
      "LoanAmount           523 non-null float64\n",
      "Loan_Amount_Term     523 non-null float64\n",
      "Credit_History       523 non-null float64\n",
      "Property_Area        523 non-null object\n",
      "Loan_Status          523 non-null object\n",
      "dtypes: float64(5), int64(1), object(7)\n",
      "memory usage: 57.2+ KB\n"
     ]
    }
   ],
   "source": [
    "cLoan.info()"
   ]
  },
  {
   "cell_type": "code",
   "execution_count": 11,
   "metadata": {},
   "outputs": [
    {
     "data": {
      "text/html": [
       "<div>\n",
       "<style scoped>\n",
       "    .dataframe tbody tr th:only-of-type {\n",
       "        vertical-align: middle;\n",
       "    }\n",
       "\n",
       "    .dataframe tbody tr th {\n",
       "        vertical-align: top;\n",
       "    }\n",
       "\n",
       "    .dataframe thead th {\n",
       "        text-align: right;\n",
       "    }\n",
       "</style>\n",
       "<table border=\"1\" class=\"dataframe\">\n",
       "  <thead>\n",
       "    <tr style=\"text-align: right;\">\n",
       "      <th></th>\n",
       "      <th>Loan_ID</th>\n",
       "      <th>Gender</th>\n",
       "      <th>Married</th>\n",
       "      <th>Dependents</th>\n",
       "      <th>Education</th>\n",
       "      <th>Self_Employed</th>\n",
       "      <th>ApplicantIncome</th>\n",
       "      <th>CoapplicantIncome</th>\n",
       "      <th>LoanAmount</th>\n",
       "      <th>Loan_Amount_Term</th>\n",
       "      <th>Credit_History</th>\n",
       "      <th>Property_Area</th>\n",
       "      <th>Loan_Status</th>\n",
       "    </tr>\n",
       "  </thead>\n",
       "  <tbody>\n",
       "    <tr>\n",
       "      <th>1</th>\n",
       "      <td>LP001003</td>\n",
       "      <td>Male</td>\n",
       "      <td>Yes</td>\n",
       "      <td>1.0</td>\n",
       "      <td>Graduate</td>\n",
       "      <td>No</td>\n",
       "      <td>4583</td>\n",
       "      <td>1508.0</td>\n",
       "      <td>128.0</td>\n",
       "      <td>360.0</td>\n",
       "      <td>1.0</td>\n",
       "      <td>Rural</td>\n",
       "      <td>N</td>\n",
       "    </tr>\n",
       "    <tr>\n",
       "      <th>2</th>\n",
       "      <td>LP001005</td>\n",
       "      <td>Male</td>\n",
       "      <td>Yes</td>\n",
       "      <td>0.0</td>\n",
       "      <td>Graduate</td>\n",
       "      <td>Yes</td>\n",
       "      <td>3000</td>\n",
       "      <td>0.0</td>\n",
       "      <td>66.0</td>\n",
       "      <td>360.0</td>\n",
       "      <td>1.0</td>\n",
       "      <td>Urban</td>\n",
       "      <td>Y</td>\n",
       "    </tr>\n",
       "    <tr>\n",
       "      <th>3</th>\n",
       "      <td>LP001006</td>\n",
       "      <td>Male</td>\n",
       "      <td>Yes</td>\n",
       "      <td>0.0</td>\n",
       "      <td>Not Graduate</td>\n",
       "      <td>No</td>\n",
       "      <td>2583</td>\n",
       "      <td>2358.0</td>\n",
       "      <td>120.0</td>\n",
       "      <td>360.0</td>\n",
       "      <td>1.0</td>\n",
       "      <td>Urban</td>\n",
       "      <td>Y</td>\n",
       "    </tr>\n",
       "    <tr>\n",
       "      <th>4</th>\n",
       "      <td>LP001008</td>\n",
       "      <td>Male</td>\n",
       "      <td>No</td>\n",
       "      <td>0.0</td>\n",
       "      <td>Graduate</td>\n",
       "      <td>No</td>\n",
       "      <td>6000</td>\n",
       "      <td>0.0</td>\n",
       "      <td>141.0</td>\n",
       "      <td>360.0</td>\n",
       "      <td>1.0</td>\n",
       "      <td>Urban</td>\n",
       "      <td>Y</td>\n",
       "    </tr>\n",
       "    <tr>\n",
       "      <th>5</th>\n",
       "      <td>LP001011</td>\n",
       "      <td>Male</td>\n",
       "      <td>Yes</td>\n",
       "      <td>2.0</td>\n",
       "      <td>Graduate</td>\n",
       "      <td>Yes</td>\n",
       "      <td>5417</td>\n",
       "      <td>4196.0</td>\n",
       "      <td>267.0</td>\n",
       "      <td>360.0</td>\n",
       "      <td>1.0</td>\n",
       "      <td>Urban</td>\n",
       "      <td>Y</td>\n",
       "    </tr>\n",
       "  </tbody>\n",
       "</table>\n",
       "</div>"
      ],
      "text/plain": [
       "    Loan_ID Gender Married  Dependents     Education Self_Employed  \\\n",
       "1  LP001003   Male     Yes         1.0      Graduate            No   \n",
       "2  LP001005   Male     Yes         0.0      Graduate           Yes   \n",
       "3  LP001006   Male     Yes         0.0  Not Graduate            No   \n",
       "4  LP001008   Male      No         0.0      Graduate            No   \n",
       "5  LP001011   Male     Yes         2.0      Graduate           Yes   \n",
       "\n",
       "   ApplicantIncome  CoapplicantIncome  LoanAmount  Loan_Amount_Term  \\\n",
       "1             4583             1508.0       128.0             360.0   \n",
       "2             3000                0.0        66.0             360.0   \n",
       "3             2583             2358.0       120.0             360.0   \n",
       "4             6000                0.0       141.0             360.0   \n",
       "5             5417             4196.0       267.0             360.0   \n",
       "\n",
       "   Credit_History Property_Area Loan_Status  \n",
       "1             1.0         Rural           N  \n",
       "2             1.0         Urban           Y  \n",
       "3             1.0         Urban           Y  \n",
       "4             1.0         Urban           Y  \n",
       "5             1.0         Urban           Y  "
      ]
     },
     "execution_count": 11,
     "metadata": {},
     "output_type": "execute_result"
    }
   ],
   "source": [
    "cLoan.head()"
   ]
  },
  {
   "cell_type": "code",
   "execution_count": 12,
   "metadata": {},
   "outputs": [
    {
     "name": "stdout",
     "output_type": "stream",
     "text": [
      "                   Dependents  ApplicantIncome  CoapplicantIncome  LoanAmount  \\\n",
      "Dependents           1.000000         0.121762          -0.015662    0.142992   \n",
      "ApplicantIncome      0.121762         1.000000          -0.101450    0.515906   \n",
      "CoapplicantIncome   -0.015662        -0.101450           1.000000    0.192040   \n",
      "LoanAmount           0.142992         0.515906           0.192040    1.000000   \n",
      "Loan_Amount_Term    -0.096134        -0.000025          -0.008410    0.076697   \n",
      "Credit_History      -0.032922        -0.051874          -0.012724   -0.036547   \n",
      "\n",
      "                   Loan_Amount_Term  Credit_History  \n",
      "Dependents                -0.096134       -0.032922  \n",
      "ApplicantIncome           -0.000025       -0.051874  \n",
      "CoapplicantIncome         -0.008410       -0.012724  \n",
      "LoanAmount                 0.076697       -0.036547  \n",
      "Loan_Amount_Term           1.000000        0.017568  \n",
      "Credit_History             0.017568        1.000000  \n"
     ]
    }
   ],
   "source": [
    "corrln = cLoan.corr()\n",
    "print(corrln)"
   ]
  },
  {
   "cell_type": "code",
   "execution_count": 13,
   "metadata": {},
   "outputs": [
    {
     "name": "stdout",
     "output_type": "stream",
     "text": [
      "                   Dependents  ApplicantIncome  CoapplicantIncome  \\\n",
      "Dependents           1.022109     6.831492e+02      -4.079781e+01   \n",
      "ApplicantIncome    683.149227     3.079705e+07      -1.450593e+06   \n",
      "CoapplicantIncome  -40.797807    -1.450593e+06       6.638607e+06   \n",
      "LoanAmount          12.031131     2.382714e+05       4.117919e+04   \n",
      "Loan_Amount_Term    -6.393486    -9.159799e+00      -1.425411e+03   \n",
      "Credit_History      -0.011868    -1.026463e+02      -1.168982e+01   \n",
      "\n",
      "                      LoanAmount  Loan_Amount_Term  Credit_History  \n",
      "Dependents             12.031131         -6.393486       -0.011868  \n",
      "ApplicantIncome    238271.370175         -9.159799     -102.646348  \n",
      "CoapplicantIncome   41179.187208      -1425.410814      -11.689821  \n",
      "LoanAmount           6926.181307        419.890640       -1.084518  \n",
      "Loan_Amount_Term      419.890640       4327.379178        0.412079  \n",
      "Credit_History         -1.084518          0.412079        0.127140  \n"
     ]
    }
   ],
   "source": [
    "covMat =cLoan.cov()\n",
    "print(covMat)"
   ]
  },
  {
   "cell_type": "code",
   "execution_count": 14,
   "metadata": {},
   "outputs": [
    {
     "data": {
      "text/plain": [
       "<seaborn.axisgrid.FacetGrid at 0x23fd893b9b0>"
      ]
     },
     "execution_count": 14,
     "metadata": {},
     "output_type": "execute_result"
    },
    {
     "data": {
      "image/png": "[encoded data removed]",
      "text/plain": [
       "<matplotlib.figure.Figure at 0x23fdc59fc50>"
      ]
     },
     "metadata": {},
     "output_type": "display_data"
    }
   ],
   "source": [
    "# Gender vs Loan Status\n",
    "g = sns.factorplot('Loan_Status', data=cLoan, hue='Gender', kind='count', aspect=1.75)\n",
    "g.set_xlabels('Loan_Status')"
   ]
  },
  {
   "cell_type": "code",
   "execution_count": 15,
   "metadata": {},
   "outputs": [
    {
     "data": {
      "text/plain": [
       "<seaborn.axisgrid.FacetGrid at 0x23fd78bb358>"
      ]
     },
     "execution_count": 15,
     "metadata": {},
     "output_type": "execute_result"
    },
    {
     "data": {
      "image/png": "[encoded data removed]",
      "text/plain": [
       "<matplotlib.figure.Figure at 0x23fdd5b5c88>"
      ]
     },
     "metadata": {},
     "output_type": "display_data"
    }
   ],
   "source": [
    "# Married vs Loan Status\n",
    "g = sns.factorplot('Loan_Status', data=cLoan, hue='Married', kind='count', aspect=1.75)\n",
    "g.set_xlabels('Loan_Status')"
   ]
  },
  {
   "cell_type": "code",
   "execution_count": 16,
   "metadata": {},
   "outputs": [
    {
     "data": {
      "text/plain": [
       "<seaborn.axisgrid.FacetGrid at 0x23fdd5b9a20>"
      ]
     },
     "execution_count": 16,
     "metadata": {},
     "output_type": "execute_result"
    },
    {
     "data": {
      "image/png": "[encoded data removed]",
      "text/plain": [
       "<matplotlib.figure.Figure at 0x23fdd5b95f8>"
      ]
     },
     "metadata": {},
     "output_type": "display_data"
    }
   ],
   "source": [
    "# Number of Dependents vs Loan Status\n",
    "g = sns.factorplot('Loan_Status', data=cLoan, hue='Dependents', kind='count', aspect=1.75)\n",
    "g.set_xlabels('Loan_Status')"
   ]
  },
  {
   "cell_type": "code",
   "execution_count": 17,
   "metadata": {},
   "outputs": [
    {
     "data": {
      "text/plain": [
       "<seaborn.axisgrid.FacetGrid at 0x23fdd68b748>"
      ]
     },
     "execution_count": 17,
     "metadata": {},
     "output_type": "execute_result"
    },
    {
     "data": {
      "image/png": "[encoded data removed]",
      "text/plain": [
       "<matplotlib.figure.Figure at 0x23fdd6a5978>"
      ]
     },
     "metadata": {},
     "output_type": "display_data"
    }
   ],
   "source": [
    "# Education vs Loan Status\n",
    "g = sns.factorplot('Loan_Status', data=cLoan, hue='Education', kind='count', aspect=1.75)\n",
    "g.set_xlabels('Loan_Status')"
   ]
  },
  {
   "cell_type": "code",
   "execution_count": 18,
   "metadata": {},
   "outputs": [
    {
     "data": {
      "text/plain": [
       "<seaborn.axisgrid.FacetGrid at 0x23fdd7020b8>"
      ]
     },
     "execution_count": 18,
     "metadata": {},
     "output_type": "execute_result"
    },
    {
     "data": {
      "image/png": "[encoded data removed]",
      "text/plain": [
       "<matplotlib.figure.Figure at 0x23fdd561400>"
      ]
     },
     "metadata": {},
     "output_type": "display_data"
    }
   ],
   "source": [
    "# Self Employed vs Loan Status\n",
    "g = sns.factorplot('Loan_Status', data=cLoan, hue='Self_Employed', kind='count', aspect=1.75)\n",
    "g.set_xlabels('Loan_Status')"
   ]
  },
  {
   "cell_type": "code",
   "execution_count": 19,
   "metadata": {},
   "outputs": [
    {
     "data": {
      "text/plain": [
       "<seaborn.axisgrid.FacetGrid at 0x23fdd757898>"
      ]
     },
     "execution_count": 19,
     "metadata": {},
     "output_type": "execute_result"
    },
    {
     "data": {
      "image/png": "[encoded data removed]",
      "text/plain": [
       "<matplotlib.figure.Figure at 0x23fdd6c0a90>"
      ]
     },
     "metadata": {},
     "output_type": "display_data"
    }
   ],
   "source": [
    "# Property_Area vs Loan Status\n",
    "g = sns.factorplot('Loan_Status', data=cLoan, hue='Property_Area', kind='count', aspect=1.75)\n",
    "g.set_xlabels('Loan_Status')"
   ]
  },
  {
   "cell_type": "code",
   "execution_count": 20,
   "metadata": {},
   "outputs": [
    {
     "data": {
      "text/plain": [
       "<seaborn.axisgrid.FacetGrid at 0x23fdd7b7208>"
      ]
     },
     "execution_count": 20,
     "metadata": {},
     "output_type": "execute_result"
    },
    {
     "data": {
      "image/png": "[encoded data removed]",
      "text/plain": [
       "<matplotlib.figure.Figure at 0x23fdd7b7358>"
      ]
     },
     "metadata": {},
     "output_type": "display_data"
    }
   ],
   "source": [
    "# Credit_History vs Loan Status\n",
    "g = sns.factorplot('Loan_Status', data=cLoan, hue='Credit_History', kind='count', aspect=1.75)\n",
    "g.set_xlabels('Loan_Status')"
   ]
  },
  {
   "cell_type": "code",
   "execution_count": 21,
   "metadata": {},
   "outputs": [
    {
     "data": {
      "text/html": [
       "<div>\n",
       "<style scoped>\n",
       "    .dataframe tbody tr th:only-of-type {\n",
       "        vertical-align: middle;\n",
       "    }\n",
       "\n",
       "    .dataframe tbody tr th {\n",
       "        vertical-align: top;\n",
       "    }\n",
       "\n",
       "    .dataframe thead th {\n",
       "        text-align: right;\n",
       "    }\n",
       "</style>\n",
       "<table border=\"1\" class=\"dataframe\">\n",
       "  <thead>\n",
       "    <tr style=\"text-align: right;\">\n",
       "      <th></th>\n",
       "      <th>Dependents</th>\n",
       "      <th>ApplicantIncome</th>\n",
       "      <th>CoapplicantIncome</th>\n",
       "      <th>LoanAmount</th>\n",
       "      <th>Loan_Amount_Term</th>\n",
       "      <th>Credit_History</th>\n",
       "    </tr>\n",
       "  </thead>\n",
       "  <tbody>\n",
       "    <tr>\n",
       "      <th>count</th>\n",
       "      <td>523.000000</td>\n",
       "      <td>523.000000</td>\n",
       "      <td>523.000000</td>\n",
       "      <td>523.000000</td>\n",
       "      <td>523.000000</td>\n",
       "      <td>523.000000</td>\n",
       "    </tr>\n",
       "    <tr>\n",
       "      <th>mean</th>\n",
       "      <td>0.766730</td>\n",
       "      <td>5316.097514</td>\n",
       "      <td>1604.498891</td>\n",
       "      <td>145.485660</td>\n",
       "      <td>341.988528</td>\n",
       "      <td>0.850860</td>\n",
       "    </tr>\n",
       "    <tr>\n",
       "      <th>std</th>\n",
       "      <td>1.010994</td>\n",
       "      <td>5549.509255</td>\n",
       "      <td>2576.549437</td>\n",
       "      <td>83.223682</td>\n",
       "      <td>65.782818</td>\n",
       "      <td>0.356567</td>\n",
       "    </tr>\n",
       "    <tr>\n",
       "      <th>min</th>\n",
       "      <td>0.000000</td>\n",
       "      <td>150.000000</td>\n",
       "      <td>0.000000</td>\n",
       "      <td>9.000000</td>\n",
       "      <td>12.000000</td>\n",
       "      <td>0.000000</td>\n",
       "    </tr>\n",
       "    <tr>\n",
       "      <th>25%</th>\n",
       "      <td>0.000000</td>\n",
       "      <td>2885.500000</td>\n",
       "      <td>0.000000</td>\n",
       "      <td>100.000000</td>\n",
       "      <td>360.000000</td>\n",
       "      <td>1.000000</td>\n",
       "    </tr>\n",
       "    <tr>\n",
       "      <th>50%</th>\n",
       "      <td>0.000000</td>\n",
       "      <td>3850.000000</td>\n",
       "      <td>1167.000000</td>\n",
       "      <td>128.000000</td>\n",
       "      <td>360.000000</td>\n",
       "      <td>1.000000</td>\n",
       "    </tr>\n",
       "    <tr>\n",
       "      <th>75%</th>\n",
       "      <td>2.000000</td>\n",
       "      <td>5825.000000</td>\n",
       "      <td>2292.500000</td>\n",
       "      <td>171.000000</td>\n",
       "      <td>360.000000</td>\n",
       "      <td>1.000000</td>\n",
       "    </tr>\n",
       "    <tr>\n",
       "      <th>max</th>\n",
       "      <td>3.000000</td>\n",
       "      <td>81000.000000</td>\n",
       "      <td>33837.000000</td>\n",
       "      <td>650.000000</td>\n",
       "      <td>480.000000</td>\n",
       "      <td>1.000000</td>\n",
       "    </tr>\n",
       "  </tbody>\n",
       "</table>\n",
       "</div>"
      ],
      "text/plain": [
       "       Dependents  ApplicantIncome  CoapplicantIncome  LoanAmount  \\\n",
       "count  523.000000       523.000000         523.000000  523.000000   \n",
       "mean     0.766730      5316.097514        1604.498891  145.485660   \n",
       "std      1.010994      5549.509255        2576.549437   83.223682   \n",
       "min      0.000000       150.000000           0.000000    9.000000   \n",
       "25%      0.000000      2885.500000           0.000000  100.000000   \n",
       "50%      0.000000      3850.000000        1167.000000  128.000000   \n",
       "75%      2.000000      5825.000000        2292.500000  171.000000   \n",
       "max      3.000000     81000.000000       33837.000000  650.000000   \n",
       "\n",
       "       Loan_Amount_Term  Credit_History  \n",
       "count        523.000000      523.000000  \n",
       "mean         341.988528        0.850860  \n",
       "std           65.782818        0.356567  \n",
       "min           12.000000        0.000000  \n",
       "25%          360.000000        1.000000  \n",
       "50%          360.000000        1.000000  \n",
       "75%          360.000000        1.000000  \n",
       "max          480.000000        1.000000  "
      ]
     },
     "execution_count": 21,
     "metadata": {},
     "output_type": "execute_result"
    }
   ],
   "source": [
    "cLoan.describe()"
   ]
  },
  {
   "cell_type": "code",
   "execution_count": 22,
   "metadata": {},
   "outputs": [],
   "source": [
    "## Discretize Applicant Income\n",
    "\n",
    "cLoan['ApplicantIncomeB']=pd.cut(cLoan['ApplicantIncome'], 6)"
   ]
  },
  {
   "cell_type": "code",
   "execution_count": 23,
   "metadata": {},
   "outputs": [
    {
     "data": {
      "text/plain": [
       "1        (69.15, 13625.0]\n",
       "2        (69.15, 13625.0]\n",
       "3        (69.15, 13625.0]\n",
       "4        (69.15, 13625.0]\n",
       "5        (69.15, 13625.0]\n",
       "6        (69.15, 13625.0]\n",
       "7        (69.15, 13625.0]\n",
       "8        (69.15, 13625.0]\n",
       "9        (69.15, 13625.0]\n",
       "10       (69.15, 13625.0]\n",
       "12       (69.15, 13625.0]\n",
       "13       (69.15, 13625.0]\n",
       "14       (69.15, 13625.0]\n",
       "15       (69.15, 13625.0]\n",
       "16       (69.15, 13625.0]\n",
       "17       (69.15, 13625.0]\n",
       "18       (69.15, 13625.0]\n",
       "20       (69.15, 13625.0]\n",
       "21       (69.15, 13625.0]\n",
       "22       (69.15, 13625.0]\n",
       "25       (69.15, 13625.0]\n",
       "26       (69.15, 13625.0]\n",
       "27       (69.15, 13625.0]\n",
       "28       (69.15, 13625.0]\n",
       "31       (69.15, 13625.0]\n",
       "32       (69.15, 13625.0]\n",
       "33       (69.15, 13625.0]\n",
       "34       (69.15, 13625.0]\n",
       "37       (69.15, 13625.0]\n",
       "38       (69.15, 13625.0]\n",
       "              ...        \n",
       "577      (69.15, 13625.0]\n",
       "578      (69.15, 13625.0]\n",
       "580      (69.15, 13625.0]\n",
       "581      (69.15, 13625.0]\n",
       "582      (69.15, 13625.0]\n",
       "583      (69.15, 13625.0]\n",
       "584      (69.15, 13625.0]\n",
       "585      (69.15, 13625.0]\n",
       "586      (69.15, 13625.0]\n",
       "587      (69.15, 13625.0]\n",
       "589      (69.15, 13625.0]\n",
       "590      (69.15, 13625.0]\n",
       "591      (69.15, 13625.0]\n",
       "593      (69.15, 13625.0]\n",
       "594    (13625.0, 27100.0]\n",
       "595      (69.15, 13625.0]\n",
       "596      (69.15, 13625.0]\n",
       "598      (69.15, 13625.0]\n",
       "599      (69.15, 13625.0]\n",
       "602      (69.15, 13625.0]\n",
       "603      (69.15, 13625.0]\n",
       "604      (69.15, 13625.0]\n",
       "606      (69.15, 13625.0]\n",
       "607      (69.15, 13625.0]\n",
       "608      (69.15, 13625.0]\n",
       "609      (69.15, 13625.0]\n",
       "610      (69.15, 13625.0]\n",
       "611      (69.15, 13625.0]\n",
       "612      (69.15, 13625.0]\n",
       "613      (69.15, 13625.0]\n",
       "Name: ApplicantIncomeB, Length: 523, dtype: category\n",
       "Categories (6, interval[float64]): [(69.15, 13625.0] < (13625.0, 27100.0] < (27100.0, 40575.0] < (40575.0, 54050.0] < (54050.0, 67525.0] < (67525.0, 81000.0]]"
      ]
     },
     "execution_count": 23,
     "metadata": {},
     "output_type": "execute_result"
    }
   ],
   "source": [
    "cLoan.ApplicantIncomeB"
   ]
  },
  {
   "cell_type": "code",
   "execution_count": 24,
   "metadata": {},
   "outputs": [],
   "source": [
    "## Discretize Applicant Income\n",
    "\n",
    "cLoan['CoapplicantIncomeB']=pd.cut(cLoan['CoapplicantIncome'], 6)"
   ]
  },
  {
   "cell_type": "code",
   "execution_count": 25,
   "metadata": {},
   "outputs": [
    {
     "data": {
      "text/plain": [
       "1       (-33.837, 5639.5]\n",
       "2       (-33.837, 5639.5]\n",
       "3       (-33.837, 5639.5]\n",
       "4       (-33.837, 5639.5]\n",
       "5       (-33.837, 5639.5]\n",
       "6       (-33.837, 5639.5]\n",
       "7       (-33.837, 5639.5]\n",
       "8       (-33.837, 5639.5]\n",
       "9       (5639.5, 11279.0]\n",
       "10      (-33.837, 5639.5]\n",
       "12      (5639.5, 11279.0]\n",
       "13      (-33.837, 5639.5]\n",
       "14      (-33.837, 5639.5]\n",
       "15      (-33.837, 5639.5]\n",
       "16      (-33.837, 5639.5]\n",
       "17      (-33.837, 5639.5]\n",
       "18      (-33.837, 5639.5]\n",
       "20      (-33.837, 5639.5]\n",
       "21      (-33.837, 5639.5]\n",
       "22      (-33.837, 5639.5]\n",
       "25      (-33.837, 5639.5]\n",
       "26      (-33.837, 5639.5]\n",
       "27      (-33.837, 5639.5]\n",
       "28      (-33.837, 5639.5]\n",
       "31      (-33.837, 5639.5]\n",
       "32      (-33.837, 5639.5]\n",
       "33      (-33.837, 5639.5]\n",
       "34      (-33.837, 5639.5]\n",
       "37      (-33.837, 5639.5]\n",
       "38      (5639.5, 11279.0]\n",
       "              ...        \n",
       "577     (-33.837, 5639.5]\n",
       "578     (-33.837, 5639.5]\n",
       "580     (-33.837, 5639.5]\n",
       "581    (28197.5, 33837.0]\n",
       "582     (-33.837, 5639.5]\n",
       "583     (-33.837, 5639.5]\n",
       "584     (-33.837, 5639.5]\n",
       "585     (-33.837, 5639.5]\n",
       "586     (-33.837, 5639.5]\n",
       "587     (-33.837, 5639.5]\n",
       "589     (-33.837, 5639.5]\n",
       "590     (-33.837, 5639.5]\n",
       "591     (-33.837, 5639.5]\n",
       "593     (-33.837, 5639.5]\n",
       "594     (-33.837, 5639.5]\n",
       "595     (-33.837, 5639.5]\n",
       "596     (-33.837, 5639.5]\n",
       "598     (-33.837, 5639.5]\n",
       "599     (-33.837, 5639.5]\n",
       "602     (-33.837, 5639.5]\n",
       "603     (-33.837, 5639.5]\n",
       "604     (-33.837, 5639.5]\n",
       "606     (-33.837, 5639.5]\n",
       "607     (-33.837, 5639.5]\n",
       "608     (-33.837, 5639.5]\n",
       "609     (-33.837, 5639.5]\n",
       "610     (-33.837, 5639.5]\n",
       "611     (-33.837, 5639.5]\n",
       "612     (-33.837, 5639.5]\n",
       "613     (-33.837, 5639.5]\n",
       "Name: CoapplicantIncomeB, Length: 523, dtype: category\n",
       "Categories (6, interval[float64]): [(-33.837, 5639.5] < (5639.5, 11279.0] < (11279.0, 16918.5] < (16918.5, 22558.0] < (22558.0, 28197.5] < (28197.5, 33837.0]]"
      ]
     },
     "execution_count": 25,
     "metadata": {},
     "output_type": "execute_result"
    }
   ],
   "source": [
    "cLoan.CoapplicantIncomeB"
   ]
  },
  {
   "cell_type": "code",
   "execution_count": 26,
   "metadata": {},
   "outputs": [],
   "source": [
    "cLoan['LoanAmountB']=pd.cut(cLoan['LoanAmount'], 10)"
   ]
  },
  {
   "cell_type": "code",
   "execution_count": 27,
   "metadata": {},
   "outputs": [
    {
     "data": {
      "text/plain": [
       "1       (73.1, 137.2]\n",
       "2       (8.359, 73.1]\n",
       "3       (73.1, 137.2]\n",
       "4      (137.2, 201.3]\n",
       "5      (265.4, 329.5]\n",
       "6       (73.1, 137.2]\n",
       "7      (137.2, 201.3]\n",
       "8      (137.2, 201.3]\n",
       "9      (329.5, 393.6]\n",
       "10      (8.359, 73.1]\n",
       "12     (137.2, 201.3]\n",
       "13      (73.1, 137.2]\n",
       "14      (8.359, 73.1]\n",
       "15      (73.1, 137.2]\n",
       "16      (73.1, 137.2]\n",
       "17      (73.1, 137.2]\n",
       "18      (73.1, 137.2]\n",
       "20      (73.1, 137.2]\n",
       "21     (265.4, 329.5]\n",
       "22      (73.1, 137.2]\n",
       "25     (137.2, 201.3]\n",
       "26      (73.1, 137.2]\n",
       "27      (73.1, 137.2]\n",
       "28      (8.359, 73.1]\n",
       "31      (73.1, 137.2]\n",
       "32      (73.1, 137.2]\n",
       "33      (73.1, 137.2]\n",
       "34     (265.4, 329.5]\n",
       "37     (137.2, 201.3]\n",
       "38     (137.2, 201.3]\n",
       "            ...      \n",
       "577     (73.1, 137.2]\n",
       "578     (73.1, 137.2]\n",
       "580    (201.3, 265.4]\n",
       "581     (73.1, 137.2]\n",
       "582     (8.359, 73.1]\n",
       "583     (8.359, 73.1]\n",
       "584    (137.2, 201.3]\n",
       "585    (137.2, 201.3]\n",
       "586     (73.1, 137.2]\n",
       "587     (8.359, 73.1]\n",
       "589     (73.1, 137.2]\n",
       "590     (8.359, 73.1]\n",
       "591    (201.3, 265.4]\n",
       "593    (137.2, 201.3]\n",
       "594    (201.3, 265.4]\n",
       "595     (73.1, 137.2]\n",
       "596    (137.2, 201.3]\n",
       "598    (137.2, 201.3]\n",
       "599    (137.2, 201.3]\n",
       "602     (73.1, 137.2]\n",
       "603    (137.2, 201.3]\n",
       "604    (457.7, 521.8]\n",
       "606    (137.2, 201.3]\n",
       "607    (137.2, 201.3]\n",
       "608     (73.1, 137.2]\n",
       "609     (8.359, 73.1]\n",
       "610     (8.359, 73.1]\n",
       "611    (201.3, 265.4]\n",
       "612    (137.2, 201.3]\n",
       "613     (73.1, 137.2]\n",
       "Name: LoanAmountB, Length: 523, dtype: category\n",
       "Categories (10, interval[float64]): [(8.359, 73.1] < (73.1, 137.2] < (137.2, 201.3] < (201.3, 265.4] ... (393.6, 457.7] < (457.7, 521.8] < (521.8, 585.9] < (585.9, 650.0]]"
      ]
     },
     "execution_count": 27,
     "metadata": {},
     "output_type": "execute_result"
    }
   ],
   "source": [
    "cLoan.LoanAmountB"
   ]
  },
  {
   "cell_type": "code",
   "execution_count": 28,
   "metadata": {},
   "outputs": [],
   "source": [
    "cLoan['Loan_Amount_TermB']=pd.cut(cLoan['Loan_Amount_Term'], 10)"
   ]
  },
  {
   "cell_type": "code",
   "execution_count": 29,
   "metadata": {},
   "outputs": [
    {
     "data": {
      "text/plain": [
       "<seaborn.axisgrid.FacetGrid at 0x23fdc5ebcf8>"
      ]
     },
     "execution_count": 29,
     "metadata": {},
     "output_type": "execute_result"
    },
    {
     "data": {
      "image/png": "[encoded data removed]",
      "text/plain": [
       "<matplotlib.figure.Figure at 0x23fdc5eb4a8>"
      ]
     },
     "metadata": {},
     "output_type": "display_data"
    }
   ],
   "source": [
    "# Loan Status vs Applicant Income\n",
    "g = sns.factorplot('Loan_Status', data=cLoan, hue='ApplicantIncomeB', kind='count', aspect=1.75)\n",
    "g.set_xlabels('Loan_Status')"
   ]
  },
  {
   "cell_type": "code",
   "execution_count": 30,
   "metadata": {},
   "outputs": [
    {
     "data": {
      "text/plain": [
       "<seaborn.axisgrid.FacetGrid at 0x23fdd832240>"
      ]
     },
     "execution_count": 30,
     "metadata": {},
     "output_type": "execute_result"
    },
    {
     "data": {
      "image/png": "[encoded data removed]",
      "text/plain": [
       "<matplotlib.figure.Figure at 0x23fdd828208>"
      ]
     },
     "metadata": {},
     "output_type": "display_data"
    }
   ],
   "source": [
    "# Loan Status vs CoApplicant Income\n",
    "g = sns.factorplot('Loan_Status', data=cLoan, hue='CoapplicantIncomeB', kind='count', aspect=1.75)\n",
    "g.set_xlabels('Loan_Status')"
   ]
  },
  {
   "cell_type": "code",
   "execution_count": 31,
   "metadata": {},
   "outputs": [
    {
     "data": {
      "text/plain": [
       "<seaborn.axisgrid.FacetGrid at 0x23fde9460f0>"
      ]
     },
     "execution_count": 31,
     "metadata": {},
     "output_type": "execute_result"
    },
    {
     "data": {
      "image/png": "[encoded data removed]",
      "text/plain": [
       "<matplotlib.figure.Figure at 0x23fde946160>"
      ]
     },
     "metadata": {},
     "output_type": "display_data"
    }
   ],
   "source": [
    "# Loan Status vs CoApplicant Income\n",
    "g = sns.factorplot('Loan_Status', data=cLoan, hue='LoanAmountB', kind='count', aspect=1.75)\n",
    "g.set_xlabels('Loan_Status')"
   ]
  },
  {
   "cell_type": "code",
   "execution_count": 32,
   "metadata": {},
   "outputs": [],
   "source": [
    "## Convert value in Loan Status to 0/1\n",
    "cLoan['Loan_Status'] = cLoan['Loan_Status'].apply({'Y':1, 'N':0}.get)"
   ]
  },
  {
   "cell_type": "code",
   "execution_count": 33,
   "metadata": {},
   "outputs": [],
   "source": [
    "## Convert value in Gender from Male/Female to 1/2\n",
    "cLoan['Gender'] = cLoan['Gender'].apply({'Male':1, 'Female':2}.get)"
   ]
  },
  {
   "cell_type": "code",
   "execution_count": 34,
   "metadata": {},
   "outputs": [],
   "source": [
    "## Convert value Married to 1/0\n",
    "cLoan['Married'] = cLoan['Married'].apply({'Yes':1, 'No':0}.get)"
   ]
  },
  {
   "cell_type": "code",
   "execution_count": 35,
   "metadata": {},
   "outputs": [
    {
     "name": "stdout",
     "output_type": "stream",
     "text": [
      "<class 'pandas.core.frame.DataFrame'>\n",
      "Int64Index: 523 entries, 1 to 613\n",
      "Data columns (total 17 columns):\n",
      "Loan_ID               523 non-null object\n",
      "Gender                523 non-null int64\n",
      "Married               523 non-null int64\n",
      "Dependents            523 non-null float64\n",
      "Education             523 non-null object\n",
      "Self_Employed         523 non-null object\n",
      "ApplicantIncome       523 non-null int64\n",
      "CoapplicantIncome     523 non-null float64\n",
      "LoanAmount            523 non-null float64\n",
      "Loan_Amount_Term      523 non-null float64\n",
      "Credit_History        523 non-null float64\n",
      "Property_Area         523 non-null object\n",
      "Loan_Status           523 non-null int64\n",
      "ApplicantIncomeB      523 non-null category\n",
      "CoapplicantIncomeB    523 non-null category\n",
      "LoanAmountB           523 non-null category\n",
      "Loan_Amount_TermB     523 non-null category\n",
      "dtypes: category(4), float64(5), int64(4), object(4)\n",
      "memory usage: 79.7+ KB\n"
     ]
    },
    {
     "data": {
      "text/html": [
       "<div>\n",
       "<style scoped>\n",
       "    .dataframe tbody tr th:only-of-type {\n",
       "        vertical-align: middle;\n",
       "    }\n",
       "\n",
       "    .dataframe tbody tr th {\n",
       "        vertical-align: top;\n",
       "    }\n",
       "\n",
       "    .dataframe thead th {\n",
       "        text-align: right;\n",
       "    }\n",
       "</style>\n",
       "<table border=\"1\" class=\"dataframe\">\n",
       "  <thead>\n",
       "    <tr style=\"text-align: right;\">\n",
       "      <th></th>\n",
       "      <th>Gender</th>\n",
       "      <th>Married</th>\n",
       "      <th>Dependents</th>\n",
       "      <th>ApplicantIncome</th>\n",
       "      <th>CoapplicantIncome</th>\n",
       "      <th>LoanAmount</th>\n",
       "      <th>Loan_Amount_Term</th>\n",
       "      <th>Credit_History</th>\n",
       "      <th>Loan_Status</th>\n",
       "    </tr>\n",
       "  </thead>\n",
       "  <tbody>\n",
       "    <tr>\n",
       "      <th>count</th>\n",
       "      <td>523.000000</td>\n",
       "      <td>523.000000</td>\n",
       "      <td>523.000000</td>\n",
       "      <td>523.000000</td>\n",
       "      <td>523.000000</td>\n",
       "      <td>523.000000</td>\n",
       "      <td>523.000000</td>\n",
       "      <td>523.000000</td>\n",
       "      <td>523.000000</td>\n",
       "    </tr>\n",
       "    <tr>\n",
       "      <th>mean</th>\n",
       "      <td>1.183556</td>\n",
       "      <td>0.653920</td>\n",
       "      <td>0.766730</td>\n",
       "      <td>5316.097514</td>\n",
       "      <td>1604.498891</td>\n",
       "      <td>145.485660</td>\n",
       "      <td>341.988528</td>\n",
       "      <td>0.850860</td>\n",
       "      <td>0.701721</td>\n",
       "    </tr>\n",
       "    <tr>\n",
       "      <th>std</th>\n",
       "      <td>0.387493</td>\n",
       "      <td>0.476175</td>\n",
       "      <td>1.010994</td>\n",
       "      <td>5549.509255</td>\n",
       "      <td>2576.549437</td>\n",
       "      <td>83.223682</td>\n",
       "      <td>65.782818</td>\n",
       "      <td>0.356567</td>\n",
       "      <td>0.457941</td>\n",
       "    </tr>\n",
       "    <tr>\n",
       "      <th>min</th>\n",
       "      <td>1.000000</td>\n",
       "      <td>0.000000</td>\n",
       "      <td>0.000000</td>\n",
       "      <td>150.000000</td>\n",
       "      <td>0.000000</td>\n",
       "      <td>9.000000</td>\n",
       "      <td>12.000000</td>\n",
       "      <td>0.000000</td>\n",
       "      <td>0.000000</td>\n",
       "    </tr>\n",
       "    <tr>\n",
       "      <th>25%</th>\n",
       "      <td>1.000000</td>\n",
       "      <td>0.000000</td>\n",
       "      <td>0.000000</td>\n",
       "      <td>2885.500000</td>\n",
       "      <td>0.000000</td>\n",
       "      <td>100.000000</td>\n",
       "      <td>360.000000</td>\n",
       "      <td>1.000000</td>\n",
       "      <td>0.000000</td>\n",
       "    </tr>\n",
       "    <tr>\n",
       "      <th>50%</th>\n",
       "      <td>1.000000</td>\n",
       "      <td>1.000000</td>\n",
       "      <td>0.000000</td>\n",
       "      <td>3850.000000</td>\n",
       "      <td>1167.000000</td>\n",
       "      <td>128.000000</td>\n",
       "      <td>360.000000</td>\n",
       "      <td>1.000000</td>\n",
       "      <td>1.000000</td>\n",
       "    </tr>\n",
       "    <tr>\n",
       "      <th>75%</th>\n",
       "      <td>1.000000</td>\n",
       "      <td>1.000000</td>\n",
       "      <td>2.000000</td>\n",
       "      <td>5825.000000</td>\n",
       "      <td>2292.500000</td>\n",
       "      <td>171.000000</td>\n",
       "      <td>360.000000</td>\n",
       "      <td>1.000000</td>\n",
       "      <td>1.000000</td>\n",
       "    </tr>\n",
       "    <tr>\n",
       "      <th>max</th>\n",
       "      <td>2.000000</td>\n",
       "      <td>1.000000</td>\n",
       "      <td>3.000000</td>\n",
       "      <td>81000.000000</td>\n",
       "      <td>33837.000000</td>\n",
       "      <td>650.000000</td>\n",
       "      <td>480.000000</td>\n",
       "      <td>1.000000</td>\n",
       "      <td>1.000000</td>\n",
       "    </tr>\n",
       "  </tbody>\n",
       "</table>\n",
       "</div>"
      ],
      "text/plain": [
       "           Gender     Married  Dependents  ApplicantIncome  CoapplicantIncome  \\\n",
       "count  523.000000  523.000000  523.000000       523.000000         523.000000   \n",
       "mean     1.183556    0.653920    0.766730      5316.097514        1604.498891   \n",
       "std      0.387493    0.476175    1.010994      5549.509255        2576.549437   \n",
       "min      1.000000    0.000000    0.000000       150.000000           0.000000   \n",
       "25%      1.000000    0.000000    0.000000      2885.500000           0.000000   \n",
       "50%      1.000000    1.000000    0.000000      3850.000000        1167.000000   \n",
       "75%      1.000000    1.000000    2.000000      5825.000000        2292.500000   \n",
       "max      2.000000    1.000000    3.000000     81000.000000       33837.000000   \n",
       "\n",
       "       LoanAmount  Loan_Amount_Term  Credit_History  Loan_Status  \n",
       "count  523.000000        523.000000      523.000000   523.000000  \n",
       "mean   145.485660        341.988528        0.850860     0.701721  \n",
       "std     83.223682         65.782818        0.356567     0.457941  \n",
       "min      9.000000         12.000000        0.000000     0.000000  \n",
       "25%    100.000000        360.000000        1.000000     0.000000  \n",
       "50%    128.000000        360.000000        1.000000     1.000000  \n",
       "75%    171.000000        360.000000        1.000000     1.000000  \n",
       "max    650.000000        480.000000        1.000000     1.000000  "
      ]
     },
     "execution_count": 35,
     "metadata": {},
     "output_type": "execute_result"
    }
   ],
   "source": [
    "cLoan.info()\n",
    "# Loan status vs Gender vs Married\n",
    "#sns.lmplot('Gender', 'Loan_Status', hue='Married', data=cLoan, palette='winter') \n",
    "          # ,hue_order=range(1,4))\n",
    "cLoan.describe()"
   ]
  },
  {
   "cell_type": "code",
   "execution_count": 36,
   "metadata": {},
   "outputs": [
    {
     "data": {
      "text/plain": [
       "<seaborn.axisgrid.FacetGrid at 0x23fdea73c50>"
      ]
     },
     "execution_count": 36,
     "metadata": {},
     "output_type": "execute_result"
    },
    {
     "data": {
      "image/png": "[encoded data removed]",
      "text/plain": [
       "<matplotlib.figure.Figure at 0x23fdea38c88>"
      ]
     },
     "metadata": {},
     "output_type": "display_data"
    }
   ],
   "source": [
    "# Loan status vs Gender vs Married\n",
    "sns.lmplot('Gender', 'Loan_Status', hue='Married', data=cLoan, palette='winter',hue_order=range(0,1))"
   ]
  },
  {
   "cell_type": "code",
   "execution_count": 37,
   "metadata": {},
   "outputs": [],
   "source": [
    "## Convert value in Education\n",
    "cLoan['Education'] = cLoan['Education'].apply({'Graduate':1, 'Not Graduate':0}.get)"
   ]
  },
  {
   "cell_type": "code",
   "execution_count": 38,
   "metadata": {},
   "outputs": [],
   "source": [
    "## Convert value in self employed\n",
    "cLoan['Self_Employed'] = cLoan['Self_Employed'].apply({'Yes':1, 'No':0}.get)"
   ]
  },
  {
   "cell_type": "code",
   "execution_count": 39,
   "metadata": {},
   "outputs": [],
   "source": [
    "## Convert value in Property area to 1/2/3\n",
    "cLoan['Property_Area'] = cLoan['Property_Area'].apply({'Urban':1, 'Rural':2 , 'Semiurban':3}.get)"
   ]
  },
  {
   "cell_type": "code",
   "execution_count": 40,
   "metadata": {},
   "outputs": [
    {
     "name": "stdout",
     "output_type": "stream",
     "text": [
      "<class 'pandas.core.frame.DataFrame'>\n",
      "Int64Index: 523 entries, 1 to 613\n",
      "Data columns (total 17 columns):\n",
      "Loan_ID               523 non-null object\n",
      "Gender                523 non-null int64\n",
      "Married               523 non-null int64\n",
      "Dependents            523 non-null float64\n",
      "Education             523 non-null int64\n",
      "Self_Employed         523 non-null int64\n",
      "ApplicantIncome       523 non-null int64\n",
      "CoapplicantIncome     523 non-null float64\n",
      "LoanAmount            523 non-null float64\n",
      "Loan_Amount_Term      523 non-null float64\n",
      "Credit_History        523 non-null float64\n",
      "Property_Area         523 non-null int64\n",
      "Loan_Status           523 non-null int64\n",
      "ApplicantIncomeB      523 non-null category\n",
      "CoapplicantIncomeB    523 non-null category\n",
      "LoanAmountB           523 non-null category\n",
      "Loan_Amount_TermB     523 non-null category\n",
      "dtypes: category(4), float64(5), int64(7), object(1)\n",
      "memory usage: 79.7+ KB\n"
     ]
    },
    {
     "data": {
      "text/html": [
       "<div>\n",
       "<style scoped>\n",
       "    .dataframe tbody tr th:only-of-type {\n",
       "        vertical-align: middle;\n",
       "    }\n",
       "\n",
       "    .dataframe tbody tr th {\n",
       "        vertical-align: top;\n",
       "    }\n",
       "\n",
       "    .dataframe thead th {\n",
       "        text-align: right;\n",
       "    }\n",
       "</style>\n",
       "<table border=\"1\" class=\"dataframe\">\n",
       "  <thead>\n",
       "    <tr style=\"text-align: right;\">\n",
       "      <th></th>\n",
       "      <th>Gender</th>\n",
       "      <th>Married</th>\n",
       "      <th>Dependents</th>\n",
       "      <th>Education</th>\n",
       "      <th>Self_Employed</th>\n",
       "      <th>ApplicantIncome</th>\n",
       "      <th>CoapplicantIncome</th>\n",
       "      <th>LoanAmount</th>\n",
       "      <th>Loan_Amount_Term</th>\n",
       "      <th>Credit_History</th>\n",
       "      <th>Property_Area</th>\n",
       "      <th>Loan_Status</th>\n",
       "    </tr>\n",
       "  </thead>\n",
       "  <tbody>\n",
       "    <tr>\n",
       "      <th>count</th>\n",
       "      <td>523.000000</td>\n",
       "      <td>523.000000</td>\n",
       "      <td>523.000000</td>\n",
       "      <td>523.000000</td>\n",
       "      <td>523.000000</td>\n",
       "      <td>523.000000</td>\n",
       "      <td>523.000000</td>\n",
       "      <td>523.000000</td>\n",
       "      <td>523.000000</td>\n",
       "      <td>523.000000</td>\n",
       "      <td>523.000000</td>\n",
       "      <td>523.000000</td>\n",
       "    </tr>\n",
       "    <tr>\n",
       "      <th>mean</th>\n",
       "      <td>1.183556</td>\n",
       "      <td>0.653920</td>\n",
       "      <td>0.766730</td>\n",
       "      <td>0.789675</td>\n",
       "      <td>0.137667</td>\n",
       "      <td>5316.097514</td>\n",
       "      <td>1604.498891</td>\n",
       "      <td>145.485660</td>\n",
       "      <td>341.988528</td>\n",
       "      <td>0.850860</td>\n",
       "      <td>2.076482</td>\n",
       "      <td>0.701721</td>\n",
       "    </tr>\n",
       "    <tr>\n",
       "      <th>std</th>\n",
       "      <td>0.387493</td>\n",
       "      <td>0.476175</td>\n",
       "      <td>1.010994</td>\n",
       "      <td>0.407930</td>\n",
       "      <td>0.344880</td>\n",
       "      <td>5549.509255</td>\n",
       "      <td>2576.549437</td>\n",
       "      <td>83.223682</td>\n",
       "      <td>65.782818</td>\n",
       "      <td>0.356567</td>\n",
       "      <td>0.838422</td>\n",
       "      <td>0.457941</td>\n",
       "    </tr>\n",
       "    <tr>\n",
       "      <th>min</th>\n",
       "      <td>1.000000</td>\n",
       "      <td>0.000000</td>\n",
       "      <td>0.000000</td>\n",
       "      <td>0.000000</td>\n",
       "      <td>0.000000</td>\n",
       "      <td>150.000000</td>\n",
       "      <td>0.000000</td>\n",
       "      <td>9.000000</td>\n",
       "      <td>12.000000</td>\n",
       "      <td>0.000000</td>\n",
       "      <td>1.000000</td>\n",
       "      <td>0.000000</td>\n",
       "    </tr>\n",
       "    <tr>\n",
       "      <th>25%</th>\n",
       "      <td>1.000000</td>\n",
       "      <td>0.000000</td>\n",
       "      <td>0.000000</td>\n",
       "      <td>1.000000</td>\n",
       "      <td>0.000000</td>\n",
       "      <td>2885.500000</td>\n",
       "      <td>0.000000</td>\n",
       "      <td>100.000000</td>\n",
       "      <td>360.000000</td>\n",
       "      <td>1.000000</td>\n",
       "      <td>1.000000</td>\n",
       "      <td>0.000000</td>\n",
       "    </tr>\n",
       "    <tr>\n",
       "      <th>50%</th>\n",
       "      <td>1.000000</td>\n",
       "      <td>1.000000</td>\n",
       "      <td>0.000000</td>\n",
       "      <td>1.000000</td>\n",
       "      <td>0.000000</td>\n",
       "      <td>3850.000000</td>\n",
       "      <td>1167.000000</td>\n",
       "      <td>128.000000</td>\n",
       "      <td>360.000000</td>\n",
       "      <td>1.000000</td>\n",
       "      <td>2.000000</td>\n",
       "      <td>1.000000</td>\n",
       "    </tr>\n",
       "    <tr>\n",
       "      <th>75%</th>\n",
       "      <td>1.000000</td>\n",
       "      <td>1.000000</td>\n",
       "      <td>2.000000</td>\n",
       "      <td>1.000000</td>\n",
       "      <td>0.000000</td>\n",
       "      <td>5825.000000</td>\n",
       "      <td>2292.500000</td>\n",
       "      <td>171.000000</td>\n",
       "      <td>360.000000</td>\n",
       "      <td>1.000000</td>\n",
       "      <td>3.000000</td>\n",
       "      <td>1.000000</td>\n",
       "    </tr>\n",
       "    <tr>\n",
       "      <th>max</th>\n",
       "      <td>2.000000</td>\n",
       "      <td>1.000000</td>\n",
       "      <td>3.000000</td>\n",
       "      <td>1.000000</td>\n",
       "      <td>1.000000</td>\n",
       "      <td>81000.000000</td>\n",
       "      <td>33837.000000</td>\n",
       "      <td>650.000000</td>\n",
       "      <td>480.000000</td>\n",
       "      <td>1.000000</td>\n",
       "      <td>3.000000</td>\n",
       "      <td>1.000000</td>\n",
       "    </tr>\n",
       "  </tbody>\n",
       "</table>\n",
       "</div>"
      ],
      "text/plain": [
       "           Gender     Married  Dependents   Education  Self_Employed  \\\n",
       "count  523.000000  523.000000  523.000000  523.000000     523.000000   \n",
       "mean     1.183556    0.653920    0.766730    0.789675       0.137667   \n",
       "std      0.387493    0.476175    1.010994    0.407930       0.344880   \n",
       "min      1.000000    0.000000    0.000000    0.000000       0.000000   \n",
       "25%      1.000000    0.000000    0.000000    1.000000       0.000000   \n",
       "50%      1.000000    1.000000    0.000000    1.000000       0.000000   \n",
       "75%      1.000000    1.000000    2.000000    1.000000       0.000000   \n",
       "max      2.000000    1.000000    3.000000    1.000000       1.000000   \n",
       "\n",
       "       ApplicantIncome  CoapplicantIncome  LoanAmount  Loan_Amount_Term  \\\n",
       "count       523.000000         523.000000  523.000000        523.000000   \n",
       "mean       5316.097514        1604.498891  145.485660        341.988528   \n",
       "std        5549.509255        2576.549437   83.223682         65.782818   \n",
       "min         150.000000           0.000000    9.000000         12.000000   \n",
       "25%        2885.500000           0.000000  100.000000        360.000000   \n",
       "50%        3850.000000        1167.000000  128.000000        360.000000   \n",
       "75%        5825.000000        2292.500000  171.000000        360.000000   \n",
       "max       81000.000000       33837.000000  650.000000        480.000000   \n",
       "\n",
       "       Credit_History  Property_Area  Loan_Status  \n",
       "count      523.000000     523.000000   523.000000  \n",
       "mean         0.850860       2.076482     0.701721  \n",
       "std          0.356567       0.838422     0.457941  \n",
       "min          0.000000       1.000000     0.000000  \n",
       "25%          1.000000       1.000000     0.000000  \n",
       "50%          1.000000       2.000000     1.000000  \n",
       "75%          1.000000       3.000000     1.000000  \n",
       "max          1.000000       3.000000     1.000000  "
      ]
     },
     "execution_count": 40,
     "metadata": {},
     "output_type": "execute_result"
    }
   ],
   "source": [
    "cLoan.info()\n",
    "# Loan status vs Gender vs Married\n",
    "#sns.lmplot('Gender', 'Loan_Status', hue='Married', data=cLoan, palette='winter') \n",
    "          # ,hue_order=range(1,4))\n",
    "cLoan.describe()"
   ]
  },
  {
   "cell_type": "code",
   "execution_count": 41,
   "metadata": {},
   "outputs": [
    {
     "data": {
      "text/plain": [
       "<matplotlib.axes._subplots.AxesSubplot at 0x23fdeb30438>"
      ]
     },
     "execution_count": 41,
     "metadata": {},
     "output_type": "execute_result"
    },
    {
     "data": {
      "image/png": "[encoded data removed]",
      "text/plain": [
       "<matplotlib.figure.Figure at 0x23fdeabc9e8>"
      ]
     },
     "metadata": {},
     "output_type": "display_data"
    }
   ],
   "source": [
    "# HeatMap\n",
    "corr=cLoan.corr()\n",
    "sns.heatmap(corr)"
   ]
  },
  {
   "cell_type": "code",
   "execution_count": 42,
   "metadata": {},
   "outputs": [
    {
     "data": {
      "image/png": "[encoded data removed]",
      "text/plain": [
       "<matplotlib.figure.Figure at 0x23fdec580f0>"
      ]
     },
     "metadata": {},
     "output_type": "display_data"
    }
   ],
   "source": [
    "## 3 D plot\n",
    "from matplotlib import cm\n",
    "fig = plt.figure()\n",
    "ax = fig.add_subplot(111, projection='3d')\n",
    "ax.set_facecolor('white')\n",
    "ax.xaxis.label.set_color('black')\n",
    "ax.yaxis.label.set_color('green')\n",
    "ax.zaxis.label.set_color('blue')\n",
    "ax.tick_params(axis='x',colors='black')\n",
    "ax.tick_params(axis='y',colors='green')\n",
    "ax.tick_params(axis='z',colors='blue')\n",
    "ax.set_xlabel('ApplicantIncome')\n",
    "ax.set_ylabel('LoanAmount')\n",
    "ax.set_zlabel('Loan Status')\n",
    "x = cLoan.ApplicantIncome\n",
    "y = cLoan.LoanAmount\n",
    "z = cLoan.Loan_Status\n",
    "c = cLoan.Gender\n",
    "surf=ax.scatter(x, y, z, c=c, cmap=cm.coolwarm)\n",
    "fig.colorbar(surf,  aspect=10)\n",
    "plt.show()"
   ]
  },
  {
   "cell_type": "code",
   "execution_count": 43,
   "metadata": {},
   "outputs": [
    {
     "data": {
      "text/html": [
       "<div>\n",
       "<style scoped>\n",
       "    .dataframe tbody tr th:only-of-type {\n",
       "        vertical-align: middle;\n",
       "    }\n",
       "\n",
       "    .dataframe tbody tr th {\n",
       "        vertical-align: top;\n",
       "    }\n",
       "\n",
       "    .dataframe thead th {\n",
       "        text-align: right;\n",
       "    }\n",
       "</style>\n",
       "<table border=\"1\" class=\"dataframe\">\n",
       "  <thead>\n",
       "    <tr style=\"text-align: right;\">\n",
       "      <th></th>\n",
       "      <th>Gender</th>\n",
       "      <th>Married</th>\n",
       "      <th>Dependents</th>\n",
       "      <th>Education</th>\n",
       "      <th>Self_Employed</th>\n",
       "      <th>ApplicantIncome</th>\n",
       "      <th>CoapplicantIncome</th>\n",
       "      <th>LoanAmount</th>\n",
       "      <th>Loan_Amount_Term</th>\n",
       "      <th>Credit_History</th>\n",
       "      <th>Property_Area</th>\n",
       "    </tr>\n",
       "  </thead>\n",
       "  <tbody>\n",
       "    <tr>\n",
       "      <th>1</th>\n",
       "      <td>1</td>\n",
       "      <td>1</td>\n",
       "      <td>1.0</td>\n",
       "      <td>1</td>\n",
       "      <td>0</td>\n",
       "      <td>4583</td>\n",
       "      <td>1508.0</td>\n",
       "      <td>128.0</td>\n",
       "      <td>360.0</td>\n",
       "      <td>1.0</td>\n",
       "      <td>2</td>\n",
       "    </tr>\n",
       "    <tr>\n",
       "      <th>2</th>\n",
       "      <td>1</td>\n",
       "      <td>1</td>\n",
       "      <td>0.0</td>\n",
       "      <td>1</td>\n",
       "      <td>1</td>\n",
       "      <td>3000</td>\n",
       "      <td>0.0</td>\n",
       "      <td>66.0</td>\n",
       "      <td>360.0</td>\n",
       "      <td>1.0</td>\n",
       "      <td>1</td>\n",
       "    </tr>\n",
       "    <tr>\n",
       "      <th>3</th>\n",
       "      <td>1</td>\n",
       "      <td>1</td>\n",
       "      <td>0.0</td>\n",
       "      <td>0</td>\n",
       "      <td>0</td>\n",
       "      <td>2583</td>\n",
       "      <td>2358.0</td>\n",
       "      <td>120.0</td>\n",
       "      <td>360.0</td>\n",
       "      <td>1.0</td>\n",
       "      <td>1</td>\n",
       "    </tr>\n",
       "    <tr>\n",
       "      <th>4</th>\n",
       "      <td>1</td>\n",
       "      <td>0</td>\n",
       "      <td>0.0</td>\n",
       "      <td>1</td>\n",
       "      <td>0</td>\n",
       "      <td>6000</td>\n",
       "      <td>0.0</td>\n",
       "      <td>141.0</td>\n",
       "      <td>360.0</td>\n",
       "      <td>1.0</td>\n",
       "      <td>1</td>\n",
       "    </tr>\n",
       "    <tr>\n",
       "      <th>5</th>\n",
       "      <td>1</td>\n",
       "      <td>1</td>\n",
       "      <td>2.0</td>\n",
       "      <td>1</td>\n",
       "      <td>1</td>\n",
       "      <td>5417</td>\n",
       "      <td>4196.0</td>\n",
       "      <td>267.0</td>\n",
       "      <td>360.0</td>\n",
       "      <td>1.0</td>\n",
       "      <td>1</td>\n",
       "    </tr>\n",
       "  </tbody>\n",
       "</table>\n",
       "</div>"
      ],
      "text/plain": [
       "   Gender  Married  Dependents  Education  Self_Employed  ApplicantIncome  \\\n",
       "1       1        1         1.0          1              0             4583   \n",
       "2       1        1         0.0          1              1             3000   \n",
       "3       1        1         0.0          0              0             2583   \n",
       "4       1        0         0.0          1              0             6000   \n",
       "5       1        1         2.0          1              1             5417   \n",
       "\n",
       "   CoapplicantIncome  LoanAmount  Loan_Amount_Term  Credit_History  \\\n",
       "1             1508.0       128.0             360.0             1.0   \n",
       "2                0.0        66.0             360.0             1.0   \n",
       "3             2358.0       120.0             360.0             1.0   \n",
       "4                0.0       141.0             360.0             1.0   \n",
       "5             4196.0       267.0             360.0             1.0   \n",
       "\n",
       "   Property_Area  \n",
       "1              2  \n",
       "2              1  \n",
       "3              1  \n",
       "4              1  \n",
       "5              1  "
      ]
     },
     "execution_count": 43,
     "metadata": {},
     "output_type": "execute_result"
    }
   ],
   "source": [
    "# NOW get the columns to use for modelling\n",
    "inLoan=cLoan.iloc[:,1:12]\n",
    "inLoan.head()"
   ]
  },
  {
   "cell_type": "code",
   "execution_count": 44,
   "metadata": {},
   "outputs": [
    {
     "name": "stdout",
     "output_type": "stream",
     "text": [
      "<class 'pandas.core.frame.DataFrame'>\n",
      "Int64Index: 523 entries, 1 to 613\n",
      "Data columns (total 11 columns):\n",
      "Gender               523 non-null int64\n",
      "Married              523 non-null int64\n",
      "Dependents           523 non-null float64\n",
      "Education            523 non-null int64\n",
      "Self_Employed        523 non-null int64\n",
      "ApplicantIncome      523 non-null int64\n",
      "CoapplicantIncome    523 non-null float64\n",
      "LoanAmount           523 non-null float64\n",
      "Loan_Amount_Term     523 non-null float64\n",
      "Credit_History       523 non-null float64\n",
      "Property_Area        523 non-null int64\n",
      "dtypes: float64(5), int64(6)\n",
      "memory usage: 69.0 KB\n"
     ]
    },
    {
     "data": {
      "text/html": [
       "<div>\n",
       "<style scoped>\n",
       "    .dataframe tbody tr th:only-of-type {\n",
       "        vertical-align: middle;\n",
       "    }\n",
       "\n",
       "    .dataframe tbody tr th {\n",
       "        vertical-align: top;\n",
       "    }\n",
       "\n",
       "    .dataframe thead th {\n",
       "        text-align: right;\n",
       "    }\n",
       "</style>\n",
       "<table border=\"1\" class=\"dataframe\">\n",
       "  <thead>\n",
       "    <tr style=\"text-align: right;\">\n",
       "      <th></th>\n",
       "      <th>Gender</th>\n",
       "      <th>Married</th>\n",
       "      <th>Dependents</th>\n",
       "      <th>Education</th>\n",
       "      <th>Self_Employed</th>\n",
       "      <th>ApplicantIncome</th>\n",
       "      <th>CoapplicantIncome</th>\n",
       "      <th>LoanAmount</th>\n",
       "      <th>Loan_Amount_Term</th>\n",
       "      <th>Credit_History</th>\n",
       "      <th>Property_Area</th>\n",
       "    </tr>\n",
       "  </thead>\n",
       "  <tbody>\n",
       "    <tr>\n",
       "      <th>count</th>\n",
       "      <td>523.000000</td>\n",
       "      <td>523.000000</td>\n",
       "      <td>523.000000</td>\n",
       "      <td>523.000000</td>\n",
       "      <td>523.000000</td>\n",
       "      <td>523.000000</td>\n",
       "      <td>523.000000</td>\n",
       "      <td>523.000000</td>\n",
       "      <td>523.000000</td>\n",
       "      <td>523.000000</td>\n",
       "      <td>523.000000</td>\n",
       "    </tr>\n",
       "    <tr>\n",
       "      <th>mean</th>\n",
       "      <td>1.183556</td>\n",
       "      <td>0.653920</td>\n",
       "      <td>0.766730</td>\n",
       "      <td>0.789675</td>\n",
       "      <td>0.137667</td>\n",
       "      <td>5316.097514</td>\n",
       "      <td>1604.498891</td>\n",
       "      <td>145.485660</td>\n",
       "      <td>341.988528</td>\n",
       "      <td>0.850860</td>\n",
       "      <td>2.076482</td>\n",
       "    </tr>\n",
       "    <tr>\n",
       "      <th>std</th>\n",
       "      <td>0.387493</td>\n",
       "      <td>0.476175</td>\n",
       "      <td>1.010994</td>\n",
       "      <td>0.407930</td>\n",
       "      <td>0.344880</td>\n",
       "      <td>5549.509255</td>\n",
       "      <td>2576.549437</td>\n",
       "      <td>83.223682</td>\n",
       "      <td>65.782818</td>\n",
       "      <td>0.356567</td>\n",
       "      <td>0.838422</td>\n",
       "    </tr>\n",
       "    <tr>\n",
       "      <th>min</th>\n",
       "      <td>1.000000</td>\n",
       "      <td>0.000000</td>\n",
       "      <td>0.000000</td>\n",
       "      <td>0.000000</td>\n",
       "      <td>0.000000</td>\n",
       "      <td>150.000000</td>\n",
       "      <td>0.000000</td>\n",
       "      <td>9.000000</td>\n",
       "      <td>12.000000</td>\n",
       "      <td>0.000000</td>\n",
       "      <td>1.000000</td>\n",
       "    </tr>\n",
       "    <tr>\n",
       "      <th>25%</th>\n",
       "      <td>1.000000</td>\n",
       "      <td>0.000000</td>\n",
       "      <td>0.000000</td>\n",
       "      <td>1.000000</td>\n",
       "      <td>0.000000</td>\n",
       "      <td>2885.500000</td>\n",
       "      <td>0.000000</td>\n",
       "      <td>100.000000</td>\n",
       "      <td>360.000000</td>\n",
       "      <td>1.000000</td>\n",
       "      <td>1.000000</td>\n",
       "    </tr>\n",
       "    <tr>\n",
       "      <th>50%</th>\n",
       "      <td>1.000000</td>\n",
       "      <td>1.000000</td>\n",
       "      <td>0.000000</td>\n",
       "      <td>1.000000</td>\n",
       "      <td>0.000000</td>\n",
       "      <td>3850.000000</td>\n",
       "      <td>1167.000000</td>\n",
       "      <td>128.000000</td>\n",
       "      <td>360.000000</td>\n",
       "      <td>1.000000</td>\n",
       "      <td>2.000000</td>\n",
       "    </tr>\n",
       "    <tr>\n",
       "      <th>75%</th>\n",
       "      <td>1.000000</td>\n",
       "      <td>1.000000</td>\n",
       "      <td>2.000000</td>\n",
       "      <td>1.000000</td>\n",
       "      <td>0.000000</td>\n",
       "      <td>5825.000000</td>\n",
       "      <td>2292.500000</td>\n",
       "      <td>171.000000</td>\n",
       "      <td>360.000000</td>\n",
       "      <td>1.000000</td>\n",
       "      <td>3.000000</td>\n",
       "    </tr>\n",
       "    <tr>\n",
       "      <th>max</th>\n",
       "      <td>2.000000</td>\n",
       "      <td>1.000000</td>\n",
       "      <td>3.000000</td>\n",
       "      <td>1.000000</td>\n",
       "      <td>1.000000</td>\n",
       "      <td>81000.000000</td>\n",
       "      <td>33837.000000</td>\n",
       "      <td>650.000000</td>\n",
       "      <td>480.000000</td>\n",
       "      <td>1.000000</td>\n",
       "      <td>3.000000</td>\n",
       "    </tr>\n",
       "  </tbody>\n",
       "</table>\n",
       "</div>"
      ],
      "text/plain": [
       "           Gender     Married  Dependents   Education  Self_Employed  \\\n",
       "count  523.000000  523.000000  523.000000  523.000000     523.000000   \n",
       "mean     1.183556    0.653920    0.766730    0.789675       0.137667   \n",
       "std      0.387493    0.476175    1.010994    0.407930       0.344880   \n",
       "min      1.000000    0.000000    0.000000    0.000000       0.000000   \n",
       "25%      1.000000    0.000000    0.000000    1.000000       0.000000   \n",
       "50%      1.000000    1.000000    0.000000    1.000000       0.000000   \n",
       "75%      1.000000    1.000000    2.000000    1.000000       0.000000   \n",
       "max      2.000000    1.000000    3.000000    1.000000       1.000000   \n",
       "\n",
       "       ApplicantIncome  CoapplicantIncome  LoanAmount  Loan_Amount_Term  \\\n",
       "count       523.000000         523.000000  523.000000        523.000000   \n",
       "mean       5316.097514        1604.498891  145.485660        341.988528   \n",
       "std        5549.509255        2576.549437   83.223682         65.782818   \n",
       "min         150.000000           0.000000    9.000000         12.000000   \n",
       "25%        2885.500000           0.000000  100.000000        360.000000   \n",
       "50%        3850.000000        1167.000000  128.000000        360.000000   \n",
       "75%        5825.000000        2292.500000  171.000000        360.000000   \n",
       "max       81000.000000       33837.000000  650.000000        480.000000   \n",
       "\n",
       "       Credit_History  Property_Area  \n",
       "count      523.000000     523.000000  \n",
       "mean         0.850860       2.076482  \n",
       "std          0.356567       0.838422  \n",
       "min          0.000000       1.000000  \n",
       "25%          1.000000       1.000000  \n",
       "50%          1.000000       2.000000  \n",
       "75%          1.000000       3.000000  \n",
       "max          1.000000       3.000000  "
      ]
     },
     "execution_count": 44,
     "metadata": {},
     "output_type": "execute_result"
    }
   ],
   "source": [
    "inLoan.info()\n",
    "inLoan.describe()"
   ]
  },
  {
   "cell_type": "code",
   "execution_count": 45,
   "metadata": {},
   "outputs": [
    {
     "data": {
      "text/plain": [
       "1    0\n",
       "2    1\n",
       "3    1\n",
       "4    1\n",
       "5    1\n",
       "Name: Loan_Status, dtype: int64"
      ]
     },
     "execution_count": 45,
     "metadata": {},
     "output_type": "execute_result"
    }
   ],
   "source": [
    "targetData=cLoan.iloc[:,cLoan.columns.get_loc('Loan_Status')]\n",
    "targetData.head()"
   ]
  },
  {
   "cell_type": "code",
   "execution_count": 46,
   "metadata": {},
   "outputs": [
    {
     "data": {
      "text/plain": [
       "count    523.000000\n",
       "mean       0.701721\n",
       "std        0.457941\n",
       "min        0.000000\n",
       "25%        0.000000\n",
       "50%        1.000000\n",
       "75%        1.000000\n",
       "max        1.000000\n",
       "Name: Loan_Status, dtype: float64"
      ]
     },
     "execution_count": 46,
     "metadata": {},
     "output_type": "execute_result"
    }
   ],
   "source": [
    "targetData.describe()"
   ]
  },
  {
   "cell_type": "code",
   "execution_count": 47,
   "metadata": {},
   "outputs": [],
   "source": [
    "#Training Set ( Feature space : X Training)\n",
    "X = pd.DataFrame(inLoan)\n",
    "y = targetData"
   ]
  },
  {
   "cell_type": "code",
   "execution_count": 48,
   "metadata": {},
   "outputs": [
    {
     "data": {
      "text/plain": [
       "11"
      ]
     },
     "execution_count": 48,
     "metadata": {},
     "output_type": "execute_result"
    }
   ],
   "source": [
    "X.head()\n",
    "X.shape[1]"
   ]
  },
  {
   "cell_type": "code",
   "execution_count": 49,
   "metadata": {},
   "outputs": [
    {
     "data": {
      "text/plain": [
       "1    0\n",
       "2    1\n",
       "3    1\n",
       "4    1\n",
       "5    1\n",
       "Name: Loan_Status, dtype: int64"
      ]
     },
     "execution_count": 49,
     "metadata": {},
     "output_type": "execute_result"
    }
   ],
   "source": [
    "y.head()"
   ]
  },
  {
   "cell_type": "code",
   "execution_count": 50,
   "metadata": {},
   "outputs": [],
   "source": [
    "X_train, X_test, y_train, y_test = train_test_split(X, y, test_size=0.3, random_state=25)"
   ]
  },
  {
   "cell_type": "code",
   "execution_count": 51,
   "metadata": {},
   "outputs": [
    {
     "data": {
      "text/plain": [
       "((366, 11), (366,))"
      ]
     },
     "execution_count": 51,
     "metadata": {},
     "output_type": "execute_result"
    }
   ],
   "source": [
    "X_train.head()\n",
    "X_train.shape , y_train.shape"
   ]
  },
  {
   "cell_type": "code",
   "execution_count": 52,
   "metadata": {},
   "outputs": [
    {
     "data": {
      "text/plain": [
       "583    0\n",
       "31     0\n",
       "99     1\n",
       "442    1\n",
       "596    0\n",
       "Name: Loan_Status, dtype: int64"
      ]
     },
     "execution_count": 52,
     "metadata": {},
     "output_type": "execute_result"
    }
   ],
   "source": [
    "y_train.head()"
   ]
  },
  {
   "cell_type": "code",
   "execution_count": 53,
   "metadata": {},
   "outputs": [
    {
     "name": "stdout",
     "output_type": "stream",
     "text": [
      "<class 'pandas.core.frame.DataFrame'>\n",
      "Int64Index: 366 entries, 583 to 159\n",
      "Data columns (total 11 columns):\n",
      "Gender               366 non-null int64\n",
      "Married              366 non-null int64\n",
      "Dependents           366 non-null float64\n",
      "Education            366 non-null int64\n",
      "Self_Employed        366 non-null int64\n",
      "ApplicantIncome      366 non-null int64\n",
      "CoapplicantIncome    366 non-null float64\n",
      "LoanAmount           366 non-null float64\n",
      "Loan_Amount_Term     366 non-null float64\n",
      "Credit_History       366 non-null float64\n",
      "Property_Area        366 non-null int64\n",
      "dtypes: float64(5), int64(6)\n",
      "memory usage: 34.3 KB\n"
     ]
    }
   ],
   "source": [
    "X_train.info()"
   ]
  },
  {
   "cell_type": "code",
   "execution_count": 54,
   "metadata": {},
   "outputs": [],
   "source": [
    "# preprocessing by scaling the data\n",
    "scaler = StandardScaler()\n",
    "# Fit on training set only.\n",
    "scaler.fit(X_train)\n",
    "# Apply transform to both the training set and the test set.\n",
    "X_train = scaler.transform(X_train)\n",
    "X_test = scaler.transform(X_test)"
   ]
  },
  {
   "cell_type": "code",
   "execution_count": 55,
   "metadata": {},
   "outputs": [],
   "source": [
    "clfSVC = SVC()"
   ]
  },
  {
   "cell_type": "code",
   "execution_count": 56,
   "metadata": {},
   "outputs": [
    {
     "name": "stdout",
     "output_type": "stream",
     "text": [
      "score 0.8535031847133758\n",
      "pred label [1 1 1 1 1 1 1 0 1 1 1 0 1 1 0 1 1 1 1 1 0 1 1 1 0 1 1 1 1 1 1 1 1 1 0 1 0\n",
      " 1 1 1 1 1 1 1 1 1 1 1 1 1 1 1 1 1 1 1 1 0 1 1 1 1 1 1 1 1 1 1 1 1 1 1 1 1\n",
      " 0 1 1 1 1 0 0 1 1 1 1 1 1 1 1 1 0 1 1 1 1 1 1 1 1 1 1 1 1 1 1 1 0 1 1 1 1\n",
      " 1 1 1 1 1 1 1 1 1 1 1 1 1 1 1 1 1 1 1 1 1 1 1 0 0 0 1 1 1 1 1 1 1 1 1 1 1\n",
      " 1 1 1 1 1 1 1 1 0]\n"
     ]
    }
   ],
   "source": [
    "# SVC\n",
    "clfSVC.fit(X_train, y_train)\n",
    "print ('score', clfSVC.score(X_test, y_test))\n",
    "print('pred label', clfSVC.predict(X_test))"
   ]
  },
  {
   "cell_type": "code",
   "execution_count": 57,
   "metadata": {},
   "outputs": [
    {
     "data": {
      "text/plain": [
       "GridSearchCV(cv=10, error_score='raise',\n",
       "       estimator=SVC(C=1.0, cache_size=200, class_weight='balanced', coef0=0.0,\n",
       "  decision_function_shape='ovr', degree=3, gamma='auto', kernel='linear',\n",
       "  max_iter=-1, probability=False, random_state=123, shrinking=True,\n",
       "  tol=0.001, verbose=False),\n",
       "       fit_params=None, iid=True, n_jobs=1,\n",
       "       param_grid={'C': array([1.e-03, 1.e-02, 1.e-01, 1.e+00, 1.e+01, 1.e+02, 1.e+03])},\n",
       "       pre_dispatch='2*n_jobs', refit=True, return_train_score='warn',\n",
       "       scoring='accuracy', verbose=0)"
      ]
     },
     "execution_count": 57,
     "metadata": {},
     "output_type": "execute_result"
    }
   ],
   "source": [
    "## Tuning SVC\n",
    "learning_algo_SVC = SVC(kernel = 'linear', class_weight='balanced', random_state=123)\n",
    "search_space = {'C': np.logspace(-3, 3, 7)}\n",
    "gridsearch = GridSearchCV(learning_algo_SVC, param_grid=search_space,\n",
    "scoring='accuracy',\n",
    "refit=True, cv=10)\n",
    "gridsearch.fit(X_train, y_train)"
   ]
  },
  {
   "cell_type": "code",
   "execution_count": 58,
   "metadata": {},
   "outputs": [
    {
     "name": "stdout",
     "output_type": "stream",
     "text": [
      "cross validation accuracy score: 0.811, test accuracy score: 0.854\n",
      "best C parameter: 0.010\n"
     ]
    }
   ],
   "source": [
    "cv_performance = gridsearch.best_score_\n",
    "test_performance = gridsearch.score(X_test, y_test)\n",
    "print('cross validation accuracy score: %0.3f, test accuracy score: %0.3f' % (cv_performance, test_performance))\n",
    "print('best C parameter: %0.3f' % gridsearch.best_params_['C'])"
   ]
  },
  {
   "cell_type": "code",
   "execution_count": 59,
   "metadata": {},
   "outputs": [
    {
     "name": "stdout",
     "output_type": "stream",
     "text": [
      "{'C': 0.01}\n"
     ]
    }
   ],
   "source": [
    "print (gridsearch.best_params_)"
   ]
  },
  {
   "cell_type": "code",
   "execution_count": 60,
   "metadata": {},
   "outputs": [],
   "source": [
    "clSVCT=SVC(C=0.010, kernel='linear')"
   ]
  },
  {
   "cell_type": "code",
   "execution_count": 61,
   "metadata": {},
   "outputs": [
    {
     "name": "stdout",
     "output_type": "stream",
     "text": [
      "score 0.8535031847133758\n",
      "pred label [1 1 1 1 1 1 1 0 1 1 1 0 1 1 0 1 1 1 1 1 0 1 1 1 0 1 1 1 1 1 1 1 1 1 0 1 0\n",
      " 1 1 1 1 1 1 1 1 1 1 1 1 1 1 1 1 1 1 1 1 0 1 1 1 1 1 1 1 1 1 1 1 1 1 1 1 1\n",
      " 0 1 1 1 1 0 0 1 1 1 1 1 1 1 1 1 0 1 1 1 1 1 1 1 1 1 1 1 1 1 1 1 0 1 1 1 1\n",
      " 1 1 1 1 1 1 1 1 1 1 1 1 1 1 1 1 1 1 1 1 1 1 1 0 0 0 1 1 1 1 1 1 1 1 1 1 1\n",
      " 1 1 1 1 1 1 1 1 0]\n"
     ]
    }
   ],
   "source": [
    "# SVC\n",
    "clSVCT.fit(X_train, y_train)\n",
    "print ('score', clSVCT.score(X_test, y_test))\n",
    "print('pred label', clSVCT.predict(X_test))"
   ]
  },
  {
   "cell_type": "code",
   "execution_count": 62,
   "metadata": {},
   "outputs": [],
   "source": [
    "y_pred = clSVCT.predict(X_test)  "
   ]
  },
  {
   "cell_type": "code",
   "execution_count": 63,
   "metadata": {},
   "outputs": [
    {
     "name": "stdout",
     "output_type": "stream",
     "text": [
      "Confusion Matrix\n",
      "[[ 15  21]\n",
      " [  2 119]]\n",
      "Cohen Kappa score\n",
      "0.4911934620262083\n",
      "Classification report\n",
      "             precision    recall  f1-score   support\n",
      "\n",
      "          0       0.88      0.42      0.57        36\n",
      "          1       0.85      0.98      0.91       121\n",
      "\n",
      "avg / total       0.86      0.85      0.83       157\n",
      "\n"
     ]
    }
   ],
   "source": [
    "# Confusion matrix/Cohen Kappa/Classification report for SVC\n",
    "print('Confusion Matrix')\n",
    "print(confusion_matrix(y_test, y_pred))  \n",
    "print('Cohen Kappa score')\n",
    "print(cohen_kappa_score(y_test, y_pred))\n",
    "print('Classification report')\n",
    "print(classification_report(y_test, y_pred))"
   ]
  },
  {
   "cell_type": "code",
   "execution_count": 64,
   "metadata": {},
   "outputs": [
    {
     "data": {
      "text/plain": [
       "count    157.000000\n",
       "mean       0.770701\n",
       "std        0.421727\n",
       "min        0.000000\n",
       "25%        1.000000\n",
       "50%        1.000000\n",
       "75%        1.000000\n",
       "max        1.000000\n",
       "Name: Loan_Status, dtype: float64"
      ]
     },
     "execution_count": 64,
     "metadata": {},
     "output_type": "execute_result"
    }
   ],
   "source": [
    "y_test.describe()"
   ]
  },
  {
   "cell_type": "code",
   "execution_count": 65,
   "metadata": {},
   "outputs": [
    {
     "name": "stdout",
     "output_type": "stream",
     "text": [
      "score 0.821656050955414\n",
      "pred label [1 1 1 1 1 1 1 0 1 1 1 0 1 1 0 1 1 1 1 1 0 1 1 1 0 1 1 1 1 1 1 0 1 1 0 1 0\n",
      " 1 1 1 1 1 1 0 1 1 1 1 1 1 1 1 1 1 1 1 1 0 1 0 1 1 1 1 1 0 1 1 1 1 1 1 1 1\n",
      " 0 1 1 1 1 0 0 1 1 1 1 1 1 1 1 1 0 1 1 1 1 1 1 1 1 1 1 0 1 1 1 1 0 1 1 1 1\n",
      " 0 1 1 1 1 1 1 1 1 1 1 1 1 1 1 1 1 1 1 1 1 1 1 0 0 0 1 1 1 1 1 1 1 1 1 1 1\n",
      " 1 1 1 0 1 1 1 1 0]\n"
     ]
    }
   ],
   "source": [
    "clKNN=KNeighborsClassifier(n_neighbors=5)  \n",
    "clKNN.fit(X_train, y_train)\n",
    "print ('score', clKNN.score(X_test, y_test))\n",
    "print('pred label', clKNN.predict(X_test))"
   ]
  },
  {
   "cell_type": "code",
   "execution_count": 66,
   "metadata": {},
   "outputs": [],
   "source": [
    "y_pred = clKNN.predict(X_test)  "
   ]
  },
  {
   "cell_type": "code",
   "execution_count": 67,
   "metadata": {},
   "outputs": [
    {
     "name": "stdout",
     "output_type": "stream",
     "text": [
      "Confusion Matrix\n",
      "[[ 16  20]\n",
      " [  8 113]]\n",
      "Cohen Kappa score\n",
      "0.42849713988559546\n",
      "Classification report\n",
      "             precision    recall  f1-score   support\n",
      "\n",
      "          0       0.67      0.44      0.53        36\n",
      "          1       0.85      0.93      0.89       121\n",
      "\n",
      "avg / total       0.81      0.82      0.81       157\n",
      "\n"
     ]
    }
   ],
   "source": [
    "# Confusion matrix/Cohen Kappa/Classification report for Knn (before tuning)\n",
    "print('Confusion Matrix')\n",
    "print(confusion_matrix(y_test, y_pred))  \n",
    "print('Cohen Kappa score')\n",
    "print(cohen_kappa_score(y_test, y_pred))\n",
    "print('Classification report')\n",
    "print(classification_report(y_test, y_pred))"
   ]
  },
  {
   "cell_type": "code",
   "execution_count": 68,
   "metadata": {},
   "outputs": [],
   "source": [
    "# Find Mean Error\n",
    "error = []\n",
    "\n",
    "# Calculating error for K values between 1 and 40\n",
    "for i in range(1, 40):  \n",
    "    knn = KNeighborsClassifier(n_neighbors=i)\n",
    "    knn.fit(X_train, y_train)\n",
    "    pred_i = knn.predict(X_test)\n",
    "    error.append(np.mean(pred_i != y_test))"
   ]
  },
  {
   "cell_type": "code",
   "execution_count": 70,
   "metadata": {},
   "outputs": [
    {
     "data": {
      "text/plain": [
       "Text(0,0.5,'Mean Error')"
      ]
     },
     "execution_count": 70,
     "metadata": {},
     "output_type": "execute_result"
    },
    {
     "data": {
      "image/png": "[encoded data removed]",
      "text/plain": [
       "<matplotlib.figure.Figure at 0x23fdf22b6a0>"
      ]
     },
     "metadata": {},
     "output_type": "display_data"
    }
   ],
   "source": [
    "# Plot error against K values\n",
    "plt.figure(figsize=(12, 6))  \n",
    "plt.plot(range(1, 40), error, color='red', linestyle='dashed', marker='o',  \n",
    "         markerfacecolor='blue', markersize=10)\n",
    "plt.title('Error Rate K Value')  \n",
    "plt.xlabel('K Value')  \n",
    "plt.ylabel('Mean Error')  "
   ]
  },
  {
   "cell_type": "code",
   "execution_count": 71,
   "metadata": {},
   "outputs": [
    {
     "name": "stdout",
     "output_type": "stream",
     "text": [
      "score 0.8535031847133758\n",
      "pred label [1 1 1 1 1 1 1 0 1 1 1 0 1 1 0 1 1 1 1 1 0 1 1 1 0 1 1 1 1 1 1 1 1 1 0 1 0\n",
      " 1 1 1 1 1 1 1 1 1 1 1 1 1 1 1 1 1 1 1 1 0 1 1 1 1 1 1 1 1 1 1 1 1 1 1 1 1\n",
      " 0 1 1 1 1 0 0 1 1 1 1 1 1 1 1 1 0 1 1 1 1 1 1 1 1 1 1 1 1 1 1 1 0 1 1 1 1\n",
      " 1 1 1 1 1 1 1 1 1 1 1 1 1 1 1 1 1 1 1 1 1 1 1 0 0 0 1 1 1 1 1 1 1 1 1 1 1\n",
      " 1 1 1 1 1 1 1 1 0]\n"
     ]
    }
   ],
   "source": [
    "# Tuned K-nn\n",
    "clKNN=KNeighborsClassifier(n_neighbors=20)  \n",
    "clKNN.fit(X_train, y_train)\n",
    "print ('score', clKNN.score(X_test, y_test))\n",
    "print('pred label', clKNN.predict(X_test))"
   ]
  },
  {
   "cell_type": "code",
   "execution_count": 72,
   "metadata": {},
   "outputs": [],
   "source": [
    "y_pred = clKNN.predict(X_test)  "
   ]
  },
  {
   "cell_type": "code",
   "execution_count": 73,
   "metadata": {},
   "outputs": [
    {
     "name": "stdout",
     "output_type": "stream",
     "text": [
      "Confusion Matrix\n",
      "[[ 15  21]\n",
      " [  2 119]]\n",
      "Cohen Kappa score\n",
      "0.4911934620262083\n",
      "Classification report\n",
      "             precision    recall  f1-score   support\n",
      "\n",
      "          0       0.88      0.42      0.57        36\n",
      "          1       0.85      0.98      0.91       121\n",
      "\n",
      "avg / total       0.86      0.85      0.83       157\n",
      "\n"
     ]
    }
   ],
   "source": [
    "# Confusion matrix/Cohen Kappa/Classification report for Knn (before tuning)\n",
    "print('Confusion Matrix')\n",
    "print(confusion_matrix(y_test, y_pred))  \n",
    "print('Cohen Kappa score')\n",
    "print(cohen_kappa_score(y_test, y_pred))\n",
    "print('Classification report')\n",
    "print(classification_report(y_test, y_pred))"
   ]
  },
  {
   "cell_type": "code",
   "execution_count": 74,
   "metadata": {},
   "outputs": [
    {
     "name": "stdout",
     "output_type": "stream",
     "text": [
      "score 0.7770700636942676\n",
      "pred label [1 1 1 1 1 1 1 0 1 1 1 0 1 1 0 1 1 1 1 1 0 1 1 1 0 1 1 1 1 0 1 0 1 1 0 0 0\n",
      " 1 0 1 1 1 1 0 1 0 1 1 1 1 1 1 1 1 1 1 1 0 1 1 1 1 1 1 1 1 1 1 1 1 1 1 1 1\n",
      " 0 1 1 1 1 0 0 1 0 1 1 1 1 1 1 1 0 0 0 1 1 1 1 1 1 1 1 1 1 1 1 1 0 1 1 1 1\n",
      " 0 1 0 1 1 1 1 1 1 1 1 1 1 1 0 1 1 1 0 1 1 1 1 0 0 0 1 1 1 1 0 1 1 1 1 1 0\n",
      " 1 1 1 1 0 1 1 1 0]\n"
     ]
    }
   ],
   "source": [
    "#Random Forest\n",
    "clrf= RandomForestClassifier(n_jobs=2, random_state=0)\n",
    "clrf.fit(X_train, y_train)\n",
    "print ('score', clrf.score(X_test, y_test))\n",
    "print('pred label', clrf.predict(X_test))"
   ]
  },
  {
   "cell_type": "code",
   "execution_count": 75,
   "metadata": {},
   "outputs": [],
   "source": [
    "y_pred =clrf.predict(X_test)"
   ]
  },
  {
   "cell_type": "code",
   "execution_count": 76,
   "metadata": {},
   "outputs": [
    {
     "name": "stdout",
     "output_type": "stream",
     "text": [
      "Confusion Matrix For RF\n",
      "[[ 17  19]\n",
      " [ 16 105]]\n",
      "Cohen Kappa score\n",
      "0.35024240274328955\n",
      "Classification report\n",
      "             precision    recall  f1-score   support\n",
      "\n",
      "          0       0.52      0.47      0.49        36\n",
      "          1       0.85      0.87      0.86       121\n",
      "\n",
      "avg / total       0.77      0.78      0.77       157\n",
      "\n"
     ]
    }
   ],
   "source": [
    "# Confusion matrix/Cohen Kappa/Classification report for rf\n",
    "print('Confusion Matrix For RF')\n",
    "print(confusion_matrix(y_test, y_pred))  \n",
    "print('Cohen Kappa score')\n",
    "print(cohen_kappa_score(y_test, y_pred))\n",
    "print('Classification report')\n",
    "print(classification_report(y_test, y_pred))"
   ]
  },
  {
   "cell_type": "code",
   "execution_count": 77,
   "metadata": {},
   "outputs": [
    {
     "name": "stdout",
     "output_type": "stream",
     "text": [
      "score 0.8280254777070064\n",
      "pred label [1 1 1 1 1 1 1 0 1 1 1 0 1 1 0 1 1 1 1 1 0 1 1 1 0 1 1 1 1 1 1 0 1 1 0 1 0\n",
      " 1 1 1 1 1 1 0 1 1 1 1 1 1 1 1 1 1 1 1 1 0 1 1 1 1 1 1 1 1 1 1 1 1 1 1 1 1\n",
      " 0 1 1 1 1 0 0 1 0 1 1 1 1 1 1 1 0 1 0 1 1 1 1 1 1 1 1 1 1 1 1 1 0 1 1 1 1\n",
      " 0 1 0 1 1 1 1 1 1 1 1 1 1 1 1 1 1 1 1 1 1 1 1 0 0 0 1 1 1 1 0 1 1 1 1 1 1\n",
      " 1 1 1 1 0 1 1 1 0]\n"
     ]
    }
   ],
   "source": [
    "#tuning RF \n",
    "clrf= RandomForestClassifier(n_jobs=2, random_state=0,n_estimators=500)\n",
    "clrf.fit(X_train, y_train)\n",
    "print ('score', clrf.score(X_test, y_test))\n",
    "print('pred label', clrf.predict(X_test))"
   ]
  },
  {
   "cell_type": "code",
   "execution_count": 78,
   "metadata": {},
   "outputs": [],
   "source": [
    "y_pred =clrf.predict(X_test)"
   ]
  },
  {
   "cell_type": "code",
   "execution_count": 79,
   "metadata": {},
   "outputs": [
    {
     "name": "stdout",
     "output_type": "stream",
     "text": [
      "Confusion Matrix For RF after tuning\n",
      "[[ 17  19]\n",
      " [  8 113]]\n",
      "Cohen Kappa score\n",
      "0.454931207406455\n",
      "Classification report\n",
      "             precision    recall  f1-score   support\n",
      "\n",
      "          0       0.68      0.47      0.56        36\n",
      "          1       0.86      0.93      0.89       121\n",
      "\n",
      "avg / total       0.82      0.83      0.82       157\n",
      "\n"
     ]
    }
   ],
   "source": [
    "# Confusion matrix/Cohen Kappa/Classification report for rf after tuning\n",
    "print('Confusion Matrix For RF after tuning')\n",
    "print(confusion_matrix(y_test, y_pred))  \n",
    "print('Cohen Kappa score')\n",
    "print(cohen_kappa_score(y_test, y_pred))\n",
    "print('Classification report')\n",
    "print(classification_report(y_test, y_pred))"
   ]
  },
  {
   "cell_type": "code",
   "execution_count": 80,
   "metadata": {},
   "outputs": [],
   "source": [
    "#GBM\n",
    "clGBM= GradientBoostingClassifier(learning_rate=1.0)"
   ]
  },
  {
   "cell_type": "code",
   "execution_count": 81,
   "metadata": {},
   "outputs": [
    {
     "name": "stdout",
     "output_type": "stream",
     "text": [
      "score 0.7643312101910829\n",
      "pred label [1 1 1 1 1 1 1 0 1 1 1 0 1 0 0 1 1 1 1 1 0 1 1 0 1 0 1 1 1 1 1 1 1 1 0 1 0\n",
      " 1 1 1 1 0 1 0 1 0 1 1 1 1 1 1 1 1 1 1 1 0 1 1 0 1 0 1 1 0 0 1 1 1 1 1 1 1\n",
      " 0 1 1 1 1 0 0 1 0 1 1 1 1 1 1 1 0 1 0 1 1 1 1 1 1 1 1 1 1 1 1 0 0 1 1 1 0\n",
      " 0 1 0 1 0 1 0 1 1 1 1 1 1 1 1 1 1 1 0 1 0 1 1 0 0 0 1 1 1 1 1 1 1 1 0 0 1\n",
      " 1 1 1 1 0 1 1 1 0]\n"
     ]
    }
   ],
   "source": [
    "clGBM.fit(X_train, y_train)\n",
    "print ('score', clGBM.score(X_test, y_test))\n",
    "print('pred label', clGBM.predict(X_test))"
   ]
  },
  {
   "cell_type": "code",
   "execution_count": 82,
   "metadata": {},
   "outputs": [],
   "source": [
    "y_pred =clGBM.predict(X_test)"
   ]
  },
  {
   "cell_type": "code",
   "execution_count": 83,
   "metadata": {},
   "outputs": [
    {
     "name": "stdout",
     "output_type": "stream",
     "text": [
      "Confusion Matrix For GBM after tuning\n",
      "[[ 19  17]\n",
      " [ 20 101]]\n",
      "Cohen Kappa score\n",
      "0.35218021634883456\n",
      "Classification report\n",
      "             precision    recall  f1-score   support\n",
      "\n",
      "          0       0.49      0.53      0.51        36\n",
      "          1       0.86      0.83      0.85       121\n",
      "\n",
      "avg / total       0.77      0.76      0.77       157\n",
      "\n"
     ]
    }
   ],
   "source": [
    "# Confusion matrix/Cohen Kappa/Classification report for GBM\n",
    "print('Confusion Matrix For GBM after tuning')\n",
    "print(confusion_matrix(y_test, y_pred))  \n",
    "print('Cohen Kappa score')\n",
    "print(cohen_kappa_score(y_test, y_pred))\n",
    "print('Classification report')\n",
    "print(classification_report(y_test, y_pred))"
   ]
  },
  {
   "cell_type": "code",
   "execution_count": 84,
   "metadata": {},
   "outputs": [
    {
     "name": "stdout",
     "output_type": "stream",
     "text": [
      "score 0.7898089171974523\n",
      "pred label [1 1 1 1 1 1 0 0 1 1 1 0 1 1 0 1 1 1 1 1 0 1 1 0 0 1 1 1 1 1 1 0 1 1 0 1 0\n",
      " 1 1 1 1 1 1 0 1 0 1 1 1 1 1 1 1 1 1 1 1 0 0 1 0 1 1 1 1 0 0 1 1 1 1 1 1 1\n",
      " 0 1 1 1 1 0 0 1 0 1 1 1 1 1 1 1 0 1 0 1 0 1 1 1 1 1 1 1 1 1 1 1 0 1 1 1 1\n",
      " 1 1 0 1 1 1 1 1 1 1 1 1 0 1 1 1 1 1 1 1 1 1 1 0 0 0 0 1 1 1 0 1 1 1 1 0 1\n",
      " 1 1 1 1 0 1 1 1 0]\n"
     ]
    }
   ],
   "source": [
    "# tuning GBM\n",
    "clGBM= GradientBoostingClassifier(learning_rate=1, n_estimators=1000, subsample=0.8, max_depth=5, max_leaf_nodes=10, random_state = 123 )\n",
    "clGBM.fit(X_train, y_train)\n",
    "print ('score', clGBM.score(X_test, y_test))\n",
    "print('pred label', clGBM.predict(X_test))"
   ]
  },
  {
   "cell_type": "code",
   "execution_count": 85,
   "metadata": {},
   "outputs": [],
   "source": [
    "y_pred =clGBM.predict(X_test)"
   ]
  },
  {
   "cell_type": "code",
   "execution_count": 86,
   "metadata": {},
   "outputs": [
    {
     "name": "stdout",
     "output_type": "stream",
     "text": [
      "Confusion Matrix For GBM after tuning\n",
      "[[ 19  17]\n",
      " [ 16 105]]\n",
      "Cohen Kappa score\n",
      "0.39944360727947137\n",
      "Classification report\n",
      "             precision    recall  f1-score   support\n",
      "\n",
      "          0       0.54      0.53      0.54        36\n",
      "          1       0.86      0.87      0.86       121\n",
      "\n",
      "avg / total       0.79      0.79      0.79       157\n",
      "\n"
     ]
    }
   ],
   "source": [
    "# Confusion matrix/Cohen Kappa/Classification report for GBM\n",
    "print('Confusion Matrix For GBM after tuning')\n",
    "print(confusion_matrix(y_test, y_pred))  \n",
    "print('Cohen Kappa score')\n",
    "print(cohen_kappa_score(y_test, y_pred))\n",
    "print('Classification report')\n",
    "print(classification_report(y_test, y_pred))"
   ]
  },
  {
   "cell_type": "code",
   "execution_count": 87,
   "metadata": {},
   "outputs": [
    {
     "data": {
      "text/html": [
       "<div>\n",
       "<style scoped>\n",
       "    .dataframe tbody tr th:only-of-type {\n",
       "        vertical-align: middle;\n",
       "    }\n",
       "\n",
       "    .dataframe tbody tr th {\n",
       "        vertical-align: top;\n",
       "    }\n",
       "\n",
       "    .dataframe thead th {\n",
       "        text-align: right;\n",
       "    }\n",
       "</style>\n",
       "<table border=\"1\" class=\"dataframe\">\n",
       "  <thead>\n",
       "    <tr style=\"text-align: right;\">\n",
       "      <th></th>\n",
       "      <th>Loan_ID</th>\n",
       "      <th>Gender</th>\n",
       "      <th>Married</th>\n",
       "      <th>Dependents</th>\n",
       "      <th>Education</th>\n",
       "      <th>Self_Employed</th>\n",
       "      <th>ApplicantIncome</th>\n",
       "      <th>CoapplicantIncome</th>\n",
       "      <th>LoanAmount</th>\n",
       "      <th>Loan_Amount_Term</th>\n",
       "      <th>Credit_History</th>\n",
       "      <th>Property_Area</th>\n",
       "    </tr>\n",
       "  </thead>\n",
       "  <tbody>\n",
       "    <tr>\n",
       "      <th>0</th>\n",
       "      <td>LP001015</td>\n",
       "      <td>Male</td>\n",
       "      <td>Yes</td>\n",
       "      <td>0.0</td>\n",
       "      <td>Graduate</td>\n",
       "      <td>No</td>\n",
       "      <td>5720</td>\n",
       "      <td>0</td>\n",
       "      <td>110.0</td>\n",
       "      <td>360.0</td>\n",
       "      <td>1.0</td>\n",
       "      <td>Urban</td>\n",
       "    </tr>\n",
       "    <tr>\n",
       "      <th>1</th>\n",
       "      <td>LP001022</td>\n",
       "      <td>Male</td>\n",
       "      <td>Yes</td>\n",
       "      <td>1.0</td>\n",
       "      <td>Graduate</td>\n",
       "      <td>No</td>\n",
       "      <td>3076</td>\n",
       "      <td>1500</td>\n",
       "      <td>126.0</td>\n",
       "      <td>360.0</td>\n",
       "      <td>1.0</td>\n",
       "      <td>Urban</td>\n",
       "    </tr>\n",
       "    <tr>\n",
       "      <th>2</th>\n",
       "      <td>LP001031</td>\n",
       "      <td>Male</td>\n",
       "      <td>Yes</td>\n",
       "      <td>2.0</td>\n",
       "      <td>Graduate</td>\n",
       "      <td>No</td>\n",
       "      <td>5000</td>\n",
       "      <td>1800</td>\n",
       "      <td>208.0</td>\n",
       "      <td>360.0</td>\n",
       "      <td>1.0</td>\n",
       "      <td>Urban</td>\n",
       "    </tr>\n",
       "    <tr>\n",
       "      <th>3</th>\n",
       "      <td>LP001035</td>\n",
       "      <td>Male</td>\n",
       "      <td>Yes</td>\n",
       "      <td>2.0</td>\n",
       "      <td>Graduate</td>\n",
       "      <td>No</td>\n",
       "      <td>2340</td>\n",
       "      <td>2546</td>\n",
       "      <td>100.0</td>\n",
       "      <td>360.0</td>\n",
       "      <td>NaN</td>\n",
       "      <td>Urban</td>\n",
       "    </tr>\n",
       "    <tr>\n",
       "      <th>4</th>\n",
       "      <td>LP001051</td>\n",
       "      <td>Male</td>\n",
       "      <td>No</td>\n",
       "      <td>0.0</td>\n",
       "      <td>Not Graduate</td>\n",
       "      <td>No</td>\n",
       "      <td>3276</td>\n",
       "      <td>0</td>\n",
       "      <td>78.0</td>\n",
       "      <td>360.0</td>\n",
       "      <td>1.0</td>\n",
       "      <td>Urban</td>\n",
       "    </tr>\n",
       "  </tbody>\n",
       "</table>\n",
       "</div>"
      ],
      "text/plain": [
       "    Loan_ID Gender Married  Dependents     Education Self_Employed  \\\n",
       "0  LP001015   Male     Yes         0.0      Graduate            No   \n",
       "1  LP001022   Male     Yes         1.0      Graduate            No   \n",
       "2  LP001031   Male     Yes         2.0      Graduate            No   \n",
       "3  LP001035   Male     Yes         2.0      Graduate            No   \n",
       "4  LP001051   Male      No         0.0  Not Graduate            No   \n",
       "\n",
       "   ApplicantIncome  CoapplicantIncome  LoanAmount  Loan_Amount_Term  \\\n",
       "0             5720                  0       110.0             360.0   \n",
       "1             3076               1500       126.0             360.0   \n",
       "2             5000               1800       208.0             360.0   \n",
       "3             2340               2546       100.0             360.0   \n",
       "4             3276                  0        78.0             360.0   \n",
       "\n",
       "   Credit_History Property_Area  \n",
       "0             1.0         Urban  \n",
       "1             1.0         Urban  \n",
       "2             1.0         Urban  \n",
       "3             NaN         Urban  \n",
       "4             1.0         Urban  "
      ]
     },
     "execution_count": 87,
     "metadata": {},
     "output_type": "execute_result"
    }
   ],
   "source": [
    "### This Data is solely for the EDA part.\n",
    "loanin = pd.read_csv('Loan_test.csv')\n",
    "loanin.head()"
   ]
  },
  {
   "cell_type": "code",
   "execution_count": 88,
   "metadata": {},
   "outputs": [
    {
     "data": {
      "text/plain": [
       "LoanAmount           5\n",
       "Loan_Amount_Term     6\n",
       "Dependents          10\n",
       "Gender              11\n",
       "Self_Employed       23\n",
       "Credit_History      29\n",
       "dtype: int64"
      ]
     },
     "execution_count": 88,
     "metadata": {},
     "output_type": "execute_result"
    }
   ],
   "source": [
    "count_null= loanin.isnull().sum()\n",
    "count_null[count_null>0].sort_values()"
   ]
  },
  {
   "cell_type": "code",
   "execution_count": 89,
   "metadata": {},
   "outputs": [],
   "source": [
    "# Drop rows with nulls\n",
    "loantest=loanin.dropna(thresh=12)"
   ]
  },
  {
   "cell_type": "code",
   "execution_count": 90,
   "metadata": {},
   "outputs": [],
   "source": [
    "## Convert value Married to 1/0\n",
    "loantest['Married'] = loantest['Married'].apply({'Yes':1, 'No':0}.get)"
   ]
  },
  {
   "cell_type": "code",
   "execution_count": 91,
   "metadata": {},
   "outputs": [],
   "source": [
    "loantest['Education'] = loantest['Education'].apply({'Graduate':1, 'Not Graduate':0}.get)"
   ]
  },
  {
   "cell_type": "code",
   "execution_count": 92,
   "metadata": {},
   "outputs": [],
   "source": [
    "## Convert value in SEX to Male/Female from 1/2\n",
    "loantest['Gender'] = loantest['Gender'].apply({'Male':1, 'Female':2}.get)"
   ]
  },
  {
   "cell_type": "code",
   "execution_count": 93,
   "metadata": {},
   "outputs": [],
   "source": [
    "loantest['Self_Employed'] = loantest['Self_Employed'].apply({'Yes':1, 'No':0}.get)"
   ]
  },
  {
   "cell_type": "code",
   "execution_count": 94,
   "metadata": {},
   "outputs": [],
   "source": [
    "## Convert value in Property area to 1/2/3\n",
    "loantest['Property_Area'] = loantest['Property_Area'].apply({'Urban':1, 'Rural':2 , 'Semiurban':3}.get)"
   ]
  },
  {
   "cell_type": "code",
   "execution_count": 95,
   "metadata": {},
   "outputs": [
    {
     "data": {
      "text/plain": [
       "Series([], dtype: int64)"
      ]
     },
     "execution_count": 95,
     "metadata": {},
     "output_type": "execute_result"
    }
   ],
   "source": [
    "count_null= loantest.isnull().sum()\n",
    "count_null[count_null>0].sort_values()"
   ]
  },
  {
   "cell_type": "code",
   "execution_count": 96,
   "metadata": {},
   "outputs": [
    {
     "data": {
      "text/html": [
       "<div>\n",
       "<style scoped>\n",
       "    .dataframe tbody tr th:only-of-type {\n",
       "        vertical-align: middle;\n",
       "    }\n",
       "\n",
       "    .dataframe tbody tr th {\n",
       "        vertical-align: top;\n",
       "    }\n",
       "\n",
       "    .dataframe thead th {\n",
       "        text-align: right;\n",
       "    }\n",
       "</style>\n",
       "<table border=\"1\" class=\"dataframe\">\n",
       "  <thead>\n",
       "    <tr style=\"text-align: right;\">\n",
       "      <th></th>\n",
       "      <th>Gender</th>\n",
       "      <th>Married</th>\n",
       "      <th>Dependents</th>\n",
       "      <th>Education</th>\n",
       "      <th>Self_Employed</th>\n",
       "      <th>ApplicantIncome</th>\n",
       "      <th>CoapplicantIncome</th>\n",
       "      <th>LoanAmount</th>\n",
       "      <th>Loan_Amount_Term</th>\n",
       "      <th>Credit_History</th>\n",
       "      <th>Property_Area</th>\n",
       "    </tr>\n",
       "  </thead>\n",
       "  <tbody>\n",
       "    <tr>\n",
       "      <th>count</th>\n",
       "      <td>289.000000</td>\n",
       "      <td>289.000000</td>\n",
       "      <td>289.000000</td>\n",
       "      <td>289.000000</td>\n",
       "      <td>289.000000</td>\n",
       "      <td>289.000000</td>\n",
       "      <td>289.000000</td>\n",
       "      <td>289.000000</td>\n",
       "      <td>289.000000</td>\n",
       "      <td>289.000000</td>\n",
       "      <td>289.000000</td>\n",
       "    </tr>\n",
       "    <tr>\n",
       "      <th>mean</th>\n",
       "      <td>1.204152</td>\n",
       "      <td>0.647059</td>\n",
       "      <td>0.802768</td>\n",
       "      <td>0.775087</td>\n",
       "      <td>0.110727</td>\n",
       "      <td>4637.352941</td>\n",
       "      <td>1528.262976</td>\n",
       "      <td>136.792388</td>\n",
       "      <td>342.671280</td>\n",
       "      <td>0.840830</td>\n",
       "      <td>1.910035</td>\n",
       "    </tr>\n",
       "    <tr>\n",
       "      <th>std</th>\n",
       "      <td>0.403780</td>\n",
       "      <td>0.478714</td>\n",
       "      <td>1.063533</td>\n",
       "      <td>0.418250</td>\n",
       "      <td>0.314338</td>\n",
       "      <td>4790.683934</td>\n",
       "      <td>2377.599209</td>\n",
       "      <td>59.699582</td>\n",
       "      <td>65.655503</td>\n",
       "      <td>0.366469</td>\n",
       "      <td>0.828446</td>\n",
       "    </tr>\n",
       "    <tr>\n",
       "      <th>min</th>\n",
       "      <td>1.000000</td>\n",
       "      <td>0.000000</td>\n",
       "      <td>0.000000</td>\n",
       "      <td>0.000000</td>\n",
       "      <td>0.000000</td>\n",
       "      <td>0.000000</td>\n",
       "      <td>0.000000</td>\n",
       "      <td>28.000000</td>\n",
       "      <td>6.000000</td>\n",
       "      <td>0.000000</td>\n",
       "      <td>1.000000</td>\n",
       "    </tr>\n",
       "    <tr>\n",
       "      <th>25%</th>\n",
       "      <td>1.000000</td>\n",
       "      <td>0.000000</td>\n",
       "      <td>0.000000</td>\n",
       "      <td>1.000000</td>\n",
       "      <td>0.000000</td>\n",
       "      <td>2875.000000</td>\n",
       "      <td>0.000000</td>\n",
       "      <td>102.000000</td>\n",
       "      <td>360.000000</td>\n",
       "      <td>1.000000</td>\n",
       "      <td>1.000000</td>\n",
       "    </tr>\n",
       "    <tr>\n",
       "      <th>50%</th>\n",
       "      <td>1.000000</td>\n",
       "      <td>1.000000</td>\n",
       "      <td>0.000000</td>\n",
       "      <td>1.000000</td>\n",
       "      <td>0.000000</td>\n",
       "      <td>3833.000000</td>\n",
       "      <td>879.000000</td>\n",
       "      <td>126.000000</td>\n",
       "      <td>360.000000</td>\n",
       "      <td>1.000000</td>\n",
       "      <td>2.000000</td>\n",
       "    </tr>\n",
       "    <tr>\n",
       "      <th>75%</th>\n",
       "      <td>1.000000</td>\n",
       "      <td>1.000000</td>\n",
       "      <td>2.000000</td>\n",
       "      <td>1.000000</td>\n",
       "      <td>0.000000</td>\n",
       "      <td>5000.000000</td>\n",
       "      <td>2400.000000</td>\n",
       "      <td>158.000000</td>\n",
       "      <td>360.000000</td>\n",
       "      <td>1.000000</td>\n",
       "      <td>3.000000</td>\n",
       "    </tr>\n",
       "    <tr>\n",
       "      <th>max</th>\n",
       "      <td>2.000000</td>\n",
       "      <td>1.000000</td>\n",
       "      <td>3.000000</td>\n",
       "      <td>1.000000</td>\n",
       "      <td>1.000000</td>\n",
       "      <td>72529.000000</td>\n",
       "      <td>24000.000000</td>\n",
       "      <td>460.000000</td>\n",
       "      <td>480.000000</td>\n",
       "      <td>1.000000</td>\n",
       "      <td>3.000000</td>\n",
       "    </tr>\n",
       "  </tbody>\n",
       "</table>\n",
       "</div>"
      ],
      "text/plain": [
       "           Gender     Married  Dependents   Education  Self_Employed  \\\n",
       "count  289.000000  289.000000  289.000000  289.000000     289.000000   \n",
       "mean     1.204152    0.647059    0.802768    0.775087       0.110727   \n",
       "std      0.403780    0.478714    1.063533    0.418250       0.314338   \n",
       "min      1.000000    0.000000    0.000000    0.000000       0.000000   \n",
       "25%      1.000000    0.000000    0.000000    1.000000       0.000000   \n",
       "50%      1.000000    1.000000    0.000000    1.000000       0.000000   \n",
       "75%      1.000000    1.000000    2.000000    1.000000       0.000000   \n",
       "max      2.000000    1.000000    3.000000    1.000000       1.000000   \n",
       "\n",
       "       ApplicantIncome  CoapplicantIncome  LoanAmount  Loan_Amount_Term  \\\n",
       "count       289.000000         289.000000  289.000000        289.000000   \n",
       "mean       4637.352941        1528.262976  136.792388        342.671280   \n",
       "std        4790.683934        2377.599209   59.699582         65.655503   \n",
       "min           0.000000           0.000000   28.000000          6.000000   \n",
       "25%        2875.000000           0.000000  102.000000        360.000000   \n",
       "50%        3833.000000         879.000000  126.000000        360.000000   \n",
       "75%        5000.000000        2400.000000  158.000000        360.000000   \n",
       "max       72529.000000       24000.000000  460.000000        480.000000   \n",
       "\n",
       "       Credit_History  Property_Area  \n",
       "count      289.000000     289.000000  \n",
       "mean         0.840830       1.910035  \n",
       "std          0.366469       0.828446  \n",
       "min          0.000000       1.000000  \n",
       "25%          1.000000       1.000000  \n",
       "50%          1.000000       2.000000  \n",
       "75%          1.000000       3.000000  \n",
       "max          1.000000       3.000000  "
      ]
     },
     "execution_count": 96,
     "metadata": {},
     "output_type": "execute_result"
    }
   ],
   "source": [
    "loantest.describe()"
   ]
  },
  {
   "cell_type": "code",
   "execution_count": 97,
   "metadata": {},
   "outputs": [
    {
     "name": "stdout",
     "output_type": "stream",
     "text": [
      "<class 'pandas.core.frame.DataFrame'>\n",
      "Int64Index: 289 entries, 0 to 366\n",
      "Data columns (total 12 columns):\n",
      "Loan_ID              289 non-null object\n",
      "Gender               289 non-null int64\n",
      "Married              289 non-null int64\n",
      "Dependents           289 non-null float64\n",
      "Education            289 non-null int64\n",
      "Self_Employed        289 non-null int64\n",
      "ApplicantIncome      289 non-null int64\n",
      "CoapplicantIncome    289 non-null int64\n",
      "LoanAmount           289 non-null float64\n",
      "Loan_Amount_Term     289 non-null float64\n",
      "Credit_History       289 non-null float64\n",
      "Property_Area        289 non-null int64\n",
      "dtypes: float64(4), int64(7), object(1)\n",
      "memory usage: 29.4+ KB\n"
     ]
    }
   ],
   "source": [
    "loantest.info()"
   ]
  },
  {
   "cell_type": "code",
   "execution_count": 98,
   "metadata": {},
   "outputs": [
    {
     "data": {
      "text/html": [
       "<div>\n",
       "<style scoped>\n",
       "    .dataframe tbody tr th:only-of-type {\n",
       "        vertical-align: middle;\n",
       "    }\n",
       "\n",
       "    .dataframe tbody tr th {\n",
       "        vertical-align: top;\n",
       "    }\n",
       "\n",
       "    .dataframe thead th {\n",
       "        text-align: right;\n",
       "    }\n",
       "</style>\n",
       "<table border=\"1\" class=\"dataframe\">\n",
       "  <thead>\n",
       "    <tr style=\"text-align: right;\">\n",
       "      <th></th>\n",
       "      <th>Gender</th>\n",
       "      <th>Married</th>\n",
       "      <th>Dependents</th>\n",
       "      <th>Education</th>\n",
       "      <th>Self_Employed</th>\n",
       "      <th>ApplicantIncome</th>\n",
       "      <th>CoapplicantIncome</th>\n",
       "      <th>LoanAmount</th>\n",
       "      <th>Loan_Amount_Term</th>\n",
       "      <th>Credit_History</th>\n",
       "      <th>Property_Area</th>\n",
       "    </tr>\n",
       "  </thead>\n",
       "  <tbody>\n",
       "    <tr>\n",
       "      <th>0</th>\n",
       "      <td>1</td>\n",
       "      <td>1</td>\n",
       "      <td>0.0</td>\n",
       "      <td>1</td>\n",
       "      <td>0</td>\n",
       "      <td>5720</td>\n",
       "      <td>0</td>\n",
       "      <td>110.0</td>\n",
       "      <td>360.0</td>\n",
       "      <td>1.0</td>\n",
       "      <td>1</td>\n",
       "    </tr>\n",
       "    <tr>\n",
       "      <th>1</th>\n",
       "      <td>1</td>\n",
       "      <td>1</td>\n",
       "      <td>1.0</td>\n",
       "      <td>1</td>\n",
       "      <td>0</td>\n",
       "      <td>3076</td>\n",
       "      <td>1500</td>\n",
       "      <td>126.0</td>\n",
       "      <td>360.0</td>\n",
       "      <td>1.0</td>\n",
       "      <td>1</td>\n",
       "    </tr>\n",
       "    <tr>\n",
       "      <th>2</th>\n",
       "      <td>1</td>\n",
       "      <td>1</td>\n",
       "      <td>2.0</td>\n",
       "      <td>1</td>\n",
       "      <td>0</td>\n",
       "      <td>5000</td>\n",
       "      <td>1800</td>\n",
       "      <td>208.0</td>\n",
       "      <td>360.0</td>\n",
       "      <td>1.0</td>\n",
       "      <td>1</td>\n",
       "    </tr>\n",
       "    <tr>\n",
       "      <th>4</th>\n",
       "      <td>1</td>\n",
       "      <td>0</td>\n",
       "      <td>0.0</td>\n",
       "      <td>0</td>\n",
       "      <td>0</td>\n",
       "      <td>3276</td>\n",
       "      <td>0</td>\n",
       "      <td>78.0</td>\n",
       "      <td>360.0</td>\n",
       "      <td>1.0</td>\n",
       "      <td>1</td>\n",
       "    </tr>\n",
       "    <tr>\n",
       "      <th>5</th>\n",
       "      <td>1</td>\n",
       "      <td>1</td>\n",
       "      <td>0.0</td>\n",
       "      <td>0</td>\n",
       "      <td>1</td>\n",
       "      <td>2165</td>\n",
       "      <td>3422</td>\n",
       "      <td>152.0</td>\n",
       "      <td>360.0</td>\n",
       "      <td>1.0</td>\n",
       "      <td>1</td>\n",
       "    </tr>\n",
       "  </tbody>\n",
       "</table>\n",
       "</div>"
      ],
      "text/plain": [
       "   Gender  Married  Dependents  Education  Self_Employed  ApplicantIncome  \\\n",
       "0       1        1         0.0          1              0             5720   \n",
       "1       1        1         1.0          1              0             3076   \n",
       "2       1        1         2.0          1              0             5000   \n",
       "4       1        0         0.0          0              0             3276   \n",
       "5       1        1         0.0          0              1             2165   \n",
       "\n",
       "   CoapplicantIncome  LoanAmount  Loan_Amount_Term  Credit_History  \\\n",
       "0                  0       110.0             360.0             1.0   \n",
       "1               1500       126.0             360.0             1.0   \n",
       "2               1800       208.0             360.0             1.0   \n",
       "4                  0        78.0             360.0             1.0   \n",
       "5               3422       152.0             360.0             1.0   \n",
       "\n",
       "   Property_Area  \n",
       "0              1  \n",
       "1              1  \n",
       "2              1  \n",
       "4              1  \n",
       "5              1  "
      ]
     },
     "execution_count": 98,
     "metadata": {},
     "output_type": "execute_result"
    }
   ],
   "source": [
    "loanpred=loantest.iloc[:,1:12]\n",
    "loanpred.head()"
   ]
  },
  {
   "cell_type": "code",
   "execution_count": 99,
   "metadata": {},
   "outputs": [],
   "source": [
    "final_loan_status= clKNN.predict(loanpred)"
   ]
  },
  {
   "cell_type": "code",
   "execution_count": 100,
   "metadata": {},
   "outputs": [],
   "source": [
    "final_loan_status_svc=clSVCT.predict(loanpred)"
   ]
  },
  {
   "cell_type": "code",
   "execution_count": 101,
   "metadata": {},
   "outputs": [],
   "source": [
    "loantest[\"Loan_Status_KNN\"]=final_loan_status"
   ]
  },
  {
   "cell_type": "code",
   "execution_count": 102,
   "metadata": {},
   "outputs": [
    {
     "name": "stdout",
     "output_type": "stream",
     "text": [
      "<class 'pandas.core.frame.DataFrame'>\n",
      "Int64Index: 289 entries, 0 to 366\n",
      "Data columns (total 13 columns):\n",
      "Loan_ID              289 non-null object\n",
      "Gender               289 non-null int64\n",
      "Married              289 non-null int64\n",
      "Dependents           289 non-null float64\n",
      "Education            289 non-null int64\n",
      "Self_Employed        289 non-null int64\n",
      "ApplicantIncome      289 non-null int64\n",
      "CoapplicantIncome    289 non-null int64\n",
      "LoanAmount           289 non-null float64\n",
      "Loan_Amount_Term     289 non-null float64\n",
      "Credit_History       289 non-null float64\n",
      "Property_Area        289 non-null int64\n",
      "Loan_Status_KNN      289 non-null int64\n",
      "dtypes: float64(4), int64(8), object(1)\n",
      "memory usage: 31.6+ KB\n"
     ]
    }
   ],
   "source": [
    "loantest.info()"
   ]
  },
  {
   "cell_type": "code",
   "execution_count": 103,
   "metadata": {},
   "outputs": [],
   "source": [
    "loantest[\"Loan_Status_SVC\"]=final_loan_status_svc"
   ]
  },
  {
   "cell_type": "code",
   "execution_count": 104,
   "metadata": {},
   "outputs": [
    {
     "name": "stdout",
     "output_type": "stream",
     "text": [
      "<class 'pandas.core.frame.DataFrame'>\n",
      "Int64Index: 289 entries, 0 to 366\n",
      "Data columns (total 14 columns):\n",
      "Loan_ID              289 non-null object\n",
      "Gender               289 non-null int64\n",
      "Married              289 non-null int64\n",
      "Dependents           289 non-null float64\n",
      "Education            289 non-null int64\n",
      "Self_Employed        289 non-null int64\n",
      "ApplicantIncome      289 non-null int64\n",
      "CoapplicantIncome    289 non-null int64\n",
      "LoanAmount           289 non-null float64\n",
      "Loan_Amount_Term     289 non-null float64\n",
      "Credit_History       289 non-null float64\n",
      "Property_Area        289 non-null int64\n",
      "Loan_Status_KNN      289 non-null int64\n",
      "Loan_Status_SVC      289 non-null int64\n",
      "dtypes: float64(4), int64(9), object(1)\n",
      "memory usage: 33.9+ KB\n"
     ]
    }
   ],
   "source": [
    "loantest.info()"
   ]
  },
  {
   "cell_type": "code",
   "execution_count": 105,
   "metadata": {},
   "outputs": [],
   "source": [
    "loantest.to_csv('C:/Rutgers_Big_data_analytics/c5Task4/model_output.csv')"
   ]
  },
  {
   "cell_type": "code",
   "execution_count": null,
   "metadata": {},
   "outputs": [],
   "source": []
  }
 ],
 "metadata": {
  "kernelspec": {
   "display_name": "Python 3",
   "language": "python",
   "name": "python3"
  },
  "language_info": {
   "codemirror_mode": {
    "name": "ipython",
    "version": 3
   },
   "file_extension": ".py",
   "mimetype": "text/x-python",
   "name": "python",
   "nbconvert_exporter": "python",
   "pygments_lexer": "ipython3",
   "version": "3.6.4"
  }
 },
 "nbformat": 4,
 "nbformat_minor": 2
}
